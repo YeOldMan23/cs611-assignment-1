{
 "cells": [
  {
   "cell_type": "code",
   "execution_count": 1,
   "metadata": {},
   "outputs": [
    {
     "name": "stdout",
     "output_type": "stream",
     "text": [
      "c:\\Users\\Admin\\Desktop\\SMU\\CS611\\cs611-assignment-1\n"
     ]
    }
   ],
   "source": [
    "import os\n",
    "import shutil\n",
    "import argparse\n",
    "from datetime import datetime\n",
    "import numpy as np\n",
    "import pandas as pd\n",
    "from collections import Counter\n",
    "\n",
    "import pyspark\n",
    "from pyspark.sql import SparkSession\n",
    "\n",
    "from utils.data_preprocessing_bronze_table import *\n",
    "from utils.data_preprocessing_silver_table import *\n",
    "from utils.data_preprocessing_gold_table import *\n",
    "from utils.helper import *\n",
    "\n",
    "\n",
    "current_directory = os.path.dirname(os.path.abspath(os.path.join(os.getcwd(), \"cs611-assignment-1\")))\n",
    "csv_dir = os.path.join(current_directory, \"data\")\n",
    "print(current_directory)\n",
    "\n",
    "# Other parts\n",
    "data_mart_dir = os.path.join(current_directory, \"datamart\")\n",
    "bronze_dir = os.path.join(data_mart_dir, \"bronze\")\n",
    "silver_dir = os.path.join(data_mart_dir, \"silver\")\n",
    "gold_dir = os.path.join(data_mart_dir, \"gold\")\n",
    "\n"
   ]
  },
  {
   "cell_type": "code",
   "execution_count": 2,
   "metadata": {},
   "outputs": [],
   "source": [
    "# Run this to refresh the dataset\n",
    "# Refresh current directory\n",
    "if os.path.exists(data_mart_dir):\n",
    "    shutil.rmtree(data_mart_dir)\n",
    "\n",
    "os.mkdir(data_mart_dir)\n",
    "os.mkdir(bronze_dir)\n",
    "os.mkdir(silver_dir)\n",
    "os.mkdir(gold_dir)"
   ]
  },
  {
   "cell_type": "code",
   "execution_count": 3,
   "metadata": {},
   "outputs": [],
   "source": [
    "def data_prep_bronze(start_date, end_date, spark : SparkSession):\n",
    "    print('\\n\\n---starting Bronze Table job---\\n\\n')\n",
    "\n",
    "    # Get all the datetimes \n",
    "    dates_str_list = generate_first_of_month_dates(start_date, end_date)\n",
    "\n",
    "    # We can build the bronze table\n",
    "    # Get csvs\n",
    "    csv_files = os.listdir(csv_dir)\n",
    "\n",
    "    for csv_file in csv_files:\n",
    "        csv_full_dir = os.path.join(csv_dir, csv_file)\n",
    "        for date_str in dates_str_list:\n",
    "            print(\"Preparing bronze table {}\".format(csv_file))\n",
    "            prepare_bronze_table_daily(csv_full_dir, bronze_dir, spark, date_str)"
   ]
  },
  {
   "cell_type": "code",
   "execution_count": 4,
   "metadata": {},
   "outputs": [],
   "source": [
    "def data_prep_silver(start_date, end_date, spark : SparkSession):\n",
    "    print('\\n\\n---starting Silver table job---\\n\\n')\n",
    "\n",
    "    # Get all the datetimes \n",
    "    dates_str_list = generate_first_of_month_dates(start_date, end_date)\n",
    "\n",
    "    # We can build the silver table\n",
    "    for date_str in dates_str_list:\n",
    "        # Build the silver table for each csv\n",
    "        expected_lms_loan_daily_file_name = \"bronze_lms_loan_daily_\" + date_str + \".csv\"\n",
    "        expected_loan_full_dir = os.path.join(bronze_dir, expected_lms_loan_daily_file_name)\n",
    "\n",
    "        process_silver_table_loan_daily(expected_loan_full_dir,\n",
    "                                        silver_dir,\n",
    "                                        date_str,\n",
    "                                        spark)\n",
    "        \n",
    "        expected_feature_financials_file_name = \"bronze_features_financial_\" + date_str + \".csv\"\n",
    "        expected_financial_full_dir = os.path.join(bronze_dir, expected_feature_financials_file_name)\n",
    "\n",
    "        process_silver_table_feature_financials(expected_financial_full_dir,\n",
    "                                                silver_dir,\n",
    "                                                date_str,\n",
    "                                                spark)\n",
    "        \n",
    "        expected_feature_attributes_file_name = \"bronze_features_attribute_\" + date_str + \".csv\"\n",
    "        expected_feature_attributes_full_dir = os.path.join(bronze_dir, expected_feature_attributes_file_name)\n",
    "\n",
    "        process_silver_table_features_attributes(expected_feature_attributes_full_dir,\n",
    "                                                 silver_dir,\n",
    "                                                 date_str,\n",
    "                                                 spark)\n",
    "        \n",
    "        expected_feature_clickstream_file_name = \"bronze_feature_clickstream_\" + date_str + \".csv\"\n",
    "        expected_feature_clickstream_full_dir = os.path.join(bronze_dir, expected_feature_clickstream_file_name)\n",
    "\n",
    "        process_silver_table_features_clickstream(expected_feature_clickstream_full_dir,\n",
    "                                                  silver_dir,\n",
    "                                                  date_str,\n",
    "                                                  spark)"
   ]
  },
  {
   "cell_type": "code",
   "execution_count": 5,
   "metadata": {},
   "outputs": [],
   "source": [
    "spark = pyspark.sql.SparkSession.builder \\\n",
    "        .config(\"spark.driver.memory\", \"4g\") \\\n",
    "        .config(\"spark.executor.memory\", \"4g\") \\\n",
    "        .appName(\"dev\") \\\n",
    "        .master(\"local[*]\") \\\n",
    "        .getOrCreate()\n",
    "    \n",
    "# Set log level to ERROR to hide warnings\n",
    "spark.sparkContext.setLogLevel(\"ERROR\")"
   ]
  },
  {
   "cell_type": "code",
   "execution_count": 6,
   "metadata": {},
   "outputs": [
    {
     "name": "stdout",
     "output_type": "stream",
     "text": [
      "\n",
      "\n",
      "---starting Bronze Table job---\n",
      "\n",
      "\n",
      "Preparing bronze table features_attributes.csv\n",
      "Row Count for Date 2023-01-01 00:00:00 : 530\n",
      "Bronze features_attribute Daily Date 2023-01-01 00:00:00 saved to : c:\\Users\\Admin\\Desktop\\SMU\\CS611\\cs611-assignment-1\\datamart\\bronze\\bronze_features_attribute_2023-01-01.csv\n",
      "Preparing bronze table features_attributes.csv\n",
      "Row Count for Date 2023-02-01 00:00:00 : 501\n",
      "Bronze features_attribute Daily Date 2023-02-01 00:00:00 saved to : c:\\Users\\Admin\\Desktop\\SMU\\CS611\\cs611-assignment-1\\datamart\\bronze\\bronze_features_attribute_2023-02-01.csv\n",
      "Preparing bronze table features_attributes.csv\n",
      "Row Count for Date 2023-03-01 00:00:00 : 506\n",
      "Bronze features_attribute Daily Date 2023-03-01 00:00:00 saved to : c:\\Users\\Admin\\Desktop\\SMU\\CS611\\cs611-assignment-1\\datamart\\bronze\\bronze_features_attribute_2023-03-01.csv\n",
      "Preparing bronze table features_attributes.csv\n",
      "Row Count for Date 2023-04-01 00:00:00 : 510\n",
      "Bronze features_attribute Daily Date 2023-04-01 00:00:00 saved to : c:\\Users\\Admin\\Desktop\\SMU\\CS611\\cs611-assignment-1\\datamart\\bronze\\bronze_features_attribute_2023-04-01.csv\n",
      "Preparing bronze table features_attributes.csv\n",
      "Row Count for Date 2023-05-01 00:00:00 : 521\n",
      "Bronze features_attribute Daily Date 2023-05-01 00:00:00 saved to : c:\\Users\\Admin\\Desktop\\SMU\\CS611\\cs611-assignment-1\\datamart\\bronze\\bronze_features_attribute_2023-05-01.csv\n",
      "Preparing bronze table features_attributes.csv\n",
      "Row Count for Date 2023-06-01 00:00:00 : 517\n",
      "Bronze features_attribute Daily Date 2023-06-01 00:00:00 saved to : c:\\Users\\Admin\\Desktop\\SMU\\CS611\\cs611-assignment-1\\datamart\\bronze\\bronze_features_attribute_2023-06-01.csv\n",
      "Preparing bronze table features_attributes.csv\n",
      "Row Count for Date 2023-07-01 00:00:00 : 471\n",
      "Bronze features_attribute Daily Date 2023-07-01 00:00:00 saved to : c:\\Users\\Admin\\Desktop\\SMU\\CS611\\cs611-assignment-1\\datamart\\bronze\\bronze_features_attribute_2023-07-01.csv\n",
      "Preparing bronze table features_attributes.csv\n",
      "Row Count for Date 2023-08-01 00:00:00 : 481\n",
      "Bronze features_attribute Daily Date 2023-08-01 00:00:00 saved to : c:\\Users\\Admin\\Desktop\\SMU\\CS611\\cs611-assignment-1\\datamart\\bronze\\bronze_features_attribute_2023-08-01.csv\n",
      "Preparing bronze table features_attributes.csv\n",
      "Row Count for Date 2023-09-01 00:00:00 : 454\n",
      "Bronze features_attribute Daily Date 2023-09-01 00:00:00 saved to : c:\\Users\\Admin\\Desktop\\SMU\\CS611\\cs611-assignment-1\\datamart\\bronze\\bronze_features_attribute_2023-09-01.csv\n",
      "Preparing bronze table features_attributes.csv\n",
      "Row Count for Date 2023-10-01 00:00:00 : 487\n",
      "Bronze features_attribute Daily Date 2023-10-01 00:00:00 saved to : c:\\Users\\Admin\\Desktop\\SMU\\CS611\\cs611-assignment-1\\datamart\\bronze\\bronze_features_attribute_2023-10-01.csv\n",
      "Preparing bronze table features_attributes.csv\n",
      "Row Count for Date 2023-11-01 00:00:00 : 491\n",
      "Bronze features_attribute Daily Date 2023-11-01 00:00:00 saved to : c:\\Users\\Admin\\Desktop\\SMU\\CS611\\cs611-assignment-1\\datamart\\bronze\\bronze_features_attribute_2023-11-01.csv\n",
      "Preparing bronze table features_attributes.csv\n",
      "Row Count for Date 2023-12-01 00:00:00 : 489\n",
      "Bronze features_attribute Daily Date 2023-12-01 00:00:00 saved to : c:\\Users\\Admin\\Desktop\\SMU\\CS611\\cs611-assignment-1\\datamart\\bronze\\bronze_features_attribute_2023-12-01.csv\n",
      "Preparing bronze table features_attributes.csv\n",
      "Row Count for Date 2024-01-01 00:00:00 : 485\n",
      "Bronze features_attribute Daily Date 2024-01-01 00:00:00 saved to : c:\\Users\\Admin\\Desktop\\SMU\\CS611\\cs611-assignment-1\\datamart\\bronze\\bronze_features_attribute_2024-01-01.csv\n",
      "Preparing bronze table features_attributes.csv\n",
      "Row Count for Date 2024-02-01 00:00:00 : 518\n",
      "Bronze features_attribute Daily Date 2024-02-01 00:00:00 saved to : c:\\Users\\Admin\\Desktop\\SMU\\CS611\\cs611-assignment-1\\datamart\\bronze\\bronze_features_attribute_2024-02-01.csv\n",
      "Preparing bronze table features_attributes.csv\n",
      "Row Count for Date 2024-03-01 00:00:00 : 511\n",
      "Bronze features_attribute Daily Date 2024-03-01 00:00:00 saved to : c:\\Users\\Admin\\Desktop\\SMU\\CS611\\cs611-assignment-1\\datamart\\bronze\\bronze_features_attribute_2024-03-01.csv\n",
      "Preparing bronze table features_attributes.csv\n",
      "Row Count for Date 2024-04-01 00:00:00 : 513\n",
      "Bronze features_attribute Daily Date 2024-04-01 00:00:00 saved to : c:\\Users\\Admin\\Desktop\\SMU\\CS611\\cs611-assignment-1\\datamart\\bronze\\bronze_features_attribute_2024-04-01.csv\n",
      "Preparing bronze table features_attributes.csv\n",
      "Row Count for Date 2024-05-01 00:00:00 : 491\n",
      "Bronze features_attribute Daily Date 2024-05-01 00:00:00 saved to : c:\\Users\\Admin\\Desktop\\SMU\\CS611\\cs611-assignment-1\\datamart\\bronze\\bronze_features_attribute_2024-05-01.csv\n",
      "Preparing bronze table features_attributes.csv\n",
      "Row Count for Date 2024-06-01 00:00:00 : 498\n",
      "Bronze features_attribute Daily Date 2024-06-01 00:00:00 saved to : c:\\Users\\Admin\\Desktop\\SMU\\CS611\\cs611-assignment-1\\datamart\\bronze\\bronze_features_attribute_2024-06-01.csv\n",
      "Preparing bronze table features_attributes.csv\n",
      "Row Count for Date 2024-07-01 00:00:00 : 505\n",
      "Bronze features_attribute Daily Date 2024-07-01 00:00:00 saved to : c:\\Users\\Admin\\Desktop\\SMU\\CS611\\cs611-assignment-1\\datamart\\bronze\\bronze_features_attribute_2024-07-01.csv\n",
      "Preparing bronze table features_attributes.csv\n",
      "Row Count for Date 2024-08-01 00:00:00 : 543\n",
      "Bronze features_attribute Daily Date 2024-08-01 00:00:00 saved to : c:\\Users\\Admin\\Desktop\\SMU\\CS611\\cs611-assignment-1\\datamart\\bronze\\bronze_features_attribute_2024-08-01.csv\n",
      "Preparing bronze table features_attributes.csv\n",
      "Row Count for Date 2024-09-01 00:00:00 : 493\n",
      "Bronze features_attribute Daily Date 2024-09-01 00:00:00 saved to : c:\\Users\\Admin\\Desktop\\SMU\\CS611\\cs611-assignment-1\\datamart\\bronze\\bronze_features_attribute_2024-09-01.csv\n",
      "Preparing bronze table features_attributes.csv\n",
      "Row Count for Date 2024-10-01 00:00:00 : 456\n",
      "Bronze features_attribute Daily Date 2024-10-01 00:00:00 saved to : c:\\Users\\Admin\\Desktop\\SMU\\CS611\\cs611-assignment-1\\datamart\\bronze\\bronze_features_attribute_2024-10-01.csv\n",
      "Preparing bronze table features_attributes.csv\n",
      "Row Count for Date 2024-11-01 00:00:00 : 488\n",
      "Bronze features_attribute Daily Date 2024-11-01 00:00:00 saved to : c:\\Users\\Admin\\Desktop\\SMU\\CS611\\cs611-assignment-1\\datamart\\bronze\\bronze_features_attribute_2024-11-01.csv\n",
      "Preparing bronze table features_attributes.csv\n",
      "Row Count for Date 2024-12-01 00:00:00 : 515\n",
      "Bronze features_attribute Daily Date 2024-12-01 00:00:00 saved to : c:\\Users\\Admin\\Desktop\\SMU\\CS611\\cs611-assignment-1\\datamart\\bronze\\bronze_features_attribute_2024-12-01.csv\n",
      "Preparing bronze table features_financials.csv\n",
      "Row Count for Date 2023-01-01 00:00:00 : 530\n",
      "Bronze features_financial Daily Date 2023-01-01 00:00:00 saved to : c:\\Users\\Admin\\Desktop\\SMU\\CS611\\cs611-assignment-1\\datamart\\bronze\\bronze_features_financial_2023-01-01.csv\n",
      "Preparing bronze table features_financials.csv\n",
      "Row Count for Date 2023-02-01 00:00:00 : 501\n",
      "Bronze features_financial Daily Date 2023-02-01 00:00:00 saved to : c:\\Users\\Admin\\Desktop\\SMU\\CS611\\cs611-assignment-1\\datamart\\bronze\\bronze_features_financial_2023-02-01.csv\n",
      "Preparing bronze table features_financials.csv\n",
      "Row Count for Date 2023-03-01 00:00:00 : 506\n",
      "Bronze features_financial Daily Date 2023-03-01 00:00:00 saved to : c:\\Users\\Admin\\Desktop\\SMU\\CS611\\cs611-assignment-1\\datamart\\bronze\\bronze_features_financial_2023-03-01.csv\n",
      "Preparing bronze table features_financials.csv\n",
      "Row Count for Date 2023-04-01 00:00:00 : 510\n",
      "Bronze features_financial Daily Date 2023-04-01 00:00:00 saved to : c:\\Users\\Admin\\Desktop\\SMU\\CS611\\cs611-assignment-1\\datamart\\bronze\\bronze_features_financial_2023-04-01.csv\n",
      "Preparing bronze table features_financials.csv\n",
      "Row Count for Date 2023-05-01 00:00:00 : 521\n",
      "Bronze features_financial Daily Date 2023-05-01 00:00:00 saved to : c:\\Users\\Admin\\Desktop\\SMU\\CS611\\cs611-assignment-1\\datamart\\bronze\\bronze_features_financial_2023-05-01.csv\n",
      "Preparing bronze table features_financials.csv\n",
      "Row Count for Date 2023-06-01 00:00:00 : 517\n",
      "Bronze features_financial Daily Date 2023-06-01 00:00:00 saved to : c:\\Users\\Admin\\Desktop\\SMU\\CS611\\cs611-assignment-1\\datamart\\bronze\\bronze_features_financial_2023-06-01.csv\n",
      "Preparing bronze table features_financials.csv\n",
      "Row Count for Date 2023-07-01 00:00:00 : 471\n",
      "Bronze features_financial Daily Date 2023-07-01 00:00:00 saved to : c:\\Users\\Admin\\Desktop\\SMU\\CS611\\cs611-assignment-1\\datamart\\bronze\\bronze_features_financial_2023-07-01.csv\n",
      "Preparing bronze table features_financials.csv\n",
      "Row Count for Date 2023-08-01 00:00:00 : 481\n",
      "Bronze features_financial Daily Date 2023-08-01 00:00:00 saved to : c:\\Users\\Admin\\Desktop\\SMU\\CS611\\cs611-assignment-1\\datamart\\bronze\\bronze_features_financial_2023-08-01.csv\n",
      "Preparing bronze table features_financials.csv\n",
      "Row Count for Date 2023-09-01 00:00:00 : 454\n",
      "Bronze features_financial Daily Date 2023-09-01 00:00:00 saved to : c:\\Users\\Admin\\Desktop\\SMU\\CS611\\cs611-assignment-1\\datamart\\bronze\\bronze_features_financial_2023-09-01.csv\n",
      "Preparing bronze table features_financials.csv\n",
      "Row Count for Date 2023-10-01 00:00:00 : 487\n",
      "Bronze features_financial Daily Date 2023-10-01 00:00:00 saved to : c:\\Users\\Admin\\Desktop\\SMU\\CS611\\cs611-assignment-1\\datamart\\bronze\\bronze_features_financial_2023-10-01.csv\n",
      "Preparing bronze table features_financials.csv\n",
      "Row Count for Date 2023-11-01 00:00:00 : 491\n",
      "Bronze features_financial Daily Date 2023-11-01 00:00:00 saved to : c:\\Users\\Admin\\Desktop\\SMU\\CS611\\cs611-assignment-1\\datamart\\bronze\\bronze_features_financial_2023-11-01.csv\n",
      "Preparing bronze table features_financials.csv\n",
      "Row Count for Date 2023-12-01 00:00:00 : 489\n",
      "Bronze features_financial Daily Date 2023-12-01 00:00:00 saved to : c:\\Users\\Admin\\Desktop\\SMU\\CS611\\cs611-assignment-1\\datamart\\bronze\\bronze_features_financial_2023-12-01.csv\n",
      "Preparing bronze table features_financials.csv\n",
      "Row Count for Date 2024-01-01 00:00:00 : 485\n",
      "Bronze features_financial Daily Date 2024-01-01 00:00:00 saved to : c:\\Users\\Admin\\Desktop\\SMU\\CS611\\cs611-assignment-1\\datamart\\bronze\\bronze_features_financial_2024-01-01.csv\n",
      "Preparing bronze table features_financials.csv\n",
      "Row Count for Date 2024-02-01 00:00:00 : 518\n",
      "Bronze features_financial Daily Date 2024-02-01 00:00:00 saved to : c:\\Users\\Admin\\Desktop\\SMU\\CS611\\cs611-assignment-1\\datamart\\bronze\\bronze_features_financial_2024-02-01.csv\n",
      "Preparing bronze table features_financials.csv\n",
      "Row Count for Date 2024-03-01 00:00:00 : 511\n",
      "Bronze features_financial Daily Date 2024-03-01 00:00:00 saved to : c:\\Users\\Admin\\Desktop\\SMU\\CS611\\cs611-assignment-1\\datamart\\bronze\\bronze_features_financial_2024-03-01.csv\n",
      "Preparing bronze table features_financials.csv\n",
      "Row Count for Date 2024-04-01 00:00:00 : 513\n",
      "Bronze features_financial Daily Date 2024-04-01 00:00:00 saved to : c:\\Users\\Admin\\Desktop\\SMU\\CS611\\cs611-assignment-1\\datamart\\bronze\\bronze_features_financial_2024-04-01.csv\n",
      "Preparing bronze table features_financials.csv\n",
      "Row Count for Date 2024-05-01 00:00:00 : 491\n",
      "Bronze features_financial Daily Date 2024-05-01 00:00:00 saved to : c:\\Users\\Admin\\Desktop\\SMU\\CS611\\cs611-assignment-1\\datamart\\bronze\\bronze_features_financial_2024-05-01.csv\n",
      "Preparing bronze table features_financials.csv\n",
      "Row Count for Date 2024-06-01 00:00:00 : 498\n",
      "Bronze features_financial Daily Date 2024-06-01 00:00:00 saved to : c:\\Users\\Admin\\Desktop\\SMU\\CS611\\cs611-assignment-1\\datamart\\bronze\\bronze_features_financial_2024-06-01.csv\n",
      "Preparing bronze table features_financials.csv\n",
      "Row Count for Date 2024-07-01 00:00:00 : 505\n",
      "Bronze features_financial Daily Date 2024-07-01 00:00:00 saved to : c:\\Users\\Admin\\Desktop\\SMU\\CS611\\cs611-assignment-1\\datamart\\bronze\\bronze_features_financial_2024-07-01.csv\n",
      "Preparing bronze table features_financials.csv\n",
      "Row Count for Date 2024-08-01 00:00:00 : 543\n",
      "Bronze features_financial Daily Date 2024-08-01 00:00:00 saved to : c:\\Users\\Admin\\Desktop\\SMU\\CS611\\cs611-assignment-1\\datamart\\bronze\\bronze_features_financial_2024-08-01.csv\n",
      "Preparing bronze table features_financials.csv\n",
      "Row Count for Date 2024-09-01 00:00:00 : 493\n",
      "Bronze features_financial Daily Date 2024-09-01 00:00:00 saved to : c:\\Users\\Admin\\Desktop\\SMU\\CS611\\cs611-assignment-1\\datamart\\bronze\\bronze_features_financial_2024-09-01.csv\n",
      "Preparing bronze table features_financials.csv\n",
      "Row Count for Date 2024-10-01 00:00:00 : 456\n",
      "Bronze features_financial Daily Date 2024-10-01 00:00:00 saved to : c:\\Users\\Admin\\Desktop\\SMU\\CS611\\cs611-assignment-1\\datamart\\bronze\\bronze_features_financial_2024-10-01.csv\n",
      "Preparing bronze table features_financials.csv\n",
      "Row Count for Date 2024-11-01 00:00:00 : 488\n",
      "Bronze features_financial Daily Date 2024-11-01 00:00:00 saved to : c:\\Users\\Admin\\Desktop\\SMU\\CS611\\cs611-assignment-1\\datamart\\bronze\\bronze_features_financial_2024-11-01.csv\n",
      "Preparing bronze table features_financials.csv\n",
      "Row Count for Date 2024-12-01 00:00:00 : 515\n",
      "Bronze features_financial Daily Date 2024-12-01 00:00:00 saved to : c:\\Users\\Admin\\Desktop\\SMU\\CS611\\cs611-assignment-1\\datamart\\bronze\\bronze_features_financial_2024-12-01.csv\n",
      "Preparing bronze table feature_clickstream.csv\n",
      "Row Count for Date 2023-01-01 00:00:00 : 8974\n",
      "Bronze feature_clickstream Daily Date 2023-01-01 00:00:00 saved to : c:\\Users\\Admin\\Desktop\\SMU\\CS611\\cs611-assignment-1\\datamart\\bronze\\bronze_feature_clickstream_2023-01-01.csv\n",
      "Preparing bronze table feature_clickstream.csv\n",
      "Row Count for Date 2023-02-01 00:00:00 : 8974\n",
      "Bronze feature_clickstream Daily Date 2023-02-01 00:00:00 saved to : c:\\Users\\Admin\\Desktop\\SMU\\CS611\\cs611-assignment-1\\datamart\\bronze\\bronze_feature_clickstream_2023-02-01.csv\n",
      "Preparing bronze table feature_clickstream.csv\n",
      "Row Count for Date 2023-03-01 00:00:00 : 8974\n",
      "Bronze feature_clickstream Daily Date 2023-03-01 00:00:00 saved to : c:\\Users\\Admin\\Desktop\\SMU\\CS611\\cs611-assignment-1\\datamart\\bronze\\bronze_feature_clickstream_2023-03-01.csv\n",
      "Preparing bronze table feature_clickstream.csv\n",
      "Row Count for Date 2023-04-01 00:00:00 : 8974\n",
      "Bronze feature_clickstream Daily Date 2023-04-01 00:00:00 saved to : c:\\Users\\Admin\\Desktop\\SMU\\CS611\\cs611-assignment-1\\datamart\\bronze\\bronze_feature_clickstream_2023-04-01.csv\n",
      "Preparing bronze table feature_clickstream.csv\n",
      "Row Count for Date 2023-05-01 00:00:00 : 8974\n",
      "Bronze feature_clickstream Daily Date 2023-05-01 00:00:00 saved to : c:\\Users\\Admin\\Desktop\\SMU\\CS611\\cs611-assignment-1\\datamart\\bronze\\bronze_feature_clickstream_2023-05-01.csv\n",
      "Preparing bronze table feature_clickstream.csv\n",
      "Row Count for Date 2023-06-01 00:00:00 : 8974\n",
      "Bronze feature_clickstream Daily Date 2023-06-01 00:00:00 saved to : c:\\Users\\Admin\\Desktop\\SMU\\CS611\\cs611-assignment-1\\datamart\\bronze\\bronze_feature_clickstream_2023-06-01.csv\n",
      "Preparing bronze table feature_clickstream.csv\n",
      "Row Count for Date 2023-07-01 00:00:00 : 8974\n",
      "Bronze feature_clickstream Daily Date 2023-07-01 00:00:00 saved to : c:\\Users\\Admin\\Desktop\\SMU\\CS611\\cs611-assignment-1\\datamart\\bronze\\bronze_feature_clickstream_2023-07-01.csv\n",
      "Preparing bronze table feature_clickstream.csv\n",
      "Row Count for Date 2023-08-01 00:00:00 : 8974\n",
      "Bronze feature_clickstream Daily Date 2023-08-01 00:00:00 saved to : c:\\Users\\Admin\\Desktop\\SMU\\CS611\\cs611-assignment-1\\datamart\\bronze\\bronze_feature_clickstream_2023-08-01.csv\n",
      "Preparing bronze table feature_clickstream.csv\n",
      "Row Count for Date 2023-09-01 00:00:00 : 8974\n",
      "Bronze feature_clickstream Daily Date 2023-09-01 00:00:00 saved to : c:\\Users\\Admin\\Desktop\\SMU\\CS611\\cs611-assignment-1\\datamart\\bronze\\bronze_feature_clickstream_2023-09-01.csv\n",
      "Preparing bronze table feature_clickstream.csv\n",
      "Row Count for Date 2023-10-01 00:00:00 : 8974\n",
      "Bronze feature_clickstream Daily Date 2023-10-01 00:00:00 saved to : c:\\Users\\Admin\\Desktop\\SMU\\CS611\\cs611-assignment-1\\datamart\\bronze\\bronze_feature_clickstream_2023-10-01.csv\n",
      "Preparing bronze table feature_clickstream.csv\n",
      "Row Count for Date 2023-11-01 00:00:00 : 8974\n",
      "Bronze feature_clickstream Daily Date 2023-11-01 00:00:00 saved to : c:\\Users\\Admin\\Desktop\\SMU\\CS611\\cs611-assignment-1\\datamart\\bronze\\bronze_feature_clickstream_2023-11-01.csv\n",
      "Preparing bronze table feature_clickstream.csv\n",
      "Row Count for Date 2023-12-01 00:00:00 : 8974\n",
      "Bronze feature_clickstream Daily Date 2023-12-01 00:00:00 saved to : c:\\Users\\Admin\\Desktop\\SMU\\CS611\\cs611-assignment-1\\datamart\\bronze\\bronze_feature_clickstream_2023-12-01.csv\n",
      "Preparing bronze table feature_clickstream.csv\n",
      "Row Count for Date 2024-01-01 00:00:00 : 8974\n",
      "Bronze feature_clickstream Daily Date 2024-01-01 00:00:00 saved to : c:\\Users\\Admin\\Desktop\\SMU\\CS611\\cs611-assignment-1\\datamart\\bronze\\bronze_feature_clickstream_2024-01-01.csv\n",
      "Preparing bronze table feature_clickstream.csv\n",
      "Row Count for Date 2024-02-01 00:00:00 : 8974\n",
      "Bronze feature_clickstream Daily Date 2024-02-01 00:00:00 saved to : c:\\Users\\Admin\\Desktop\\SMU\\CS611\\cs611-assignment-1\\datamart\\bronze\\bronze_feature_clickstream_2024-02-01.csv\n",
      "Preparing bronze table feature_clickstream.csv\n",
      "Row Count for Date 2024-03-01 00:00:00 : 8974\n",
      "Bronze feature_clickstream Daily Date 2024-03-01 00:00:00 saved to : c:\\Users\\Admin\\Desktop\\SMU\\CS611\\cs611-assignment-1\\datamart\\bronze\\bronze_feature_clickstream_2024-03-01.csv\n",
      "Preparing bronze table feature_clickstream.csv\n",
      "Row Count for Date 2024-04-01 00:00:00 : 8974\n",
      "Bronze feature_clickstream Daily Date 2024-04-01 00:00:00 saved to : c:\\Users\\Admin\\Desktop\\SMU\\CS611\\cs611-assignment-1\\datamart\\bronze\\bronze_feature_clickstream_2024-04-01.csv\n",
      "Preparing bronze table feature_clickstream.csv\n",
      "Row Count for Date 2024-05-01 00:00:00 : 8974\n",
      "Bronze feature_clickstream Daily Date 2024-05-01 00:00:00 saved to : c:\\Users\\Admin\\Desktop\\SMU\\CS611\\cs611-assignment-1\\datamart\\bronze\\bronze_feature_clickstream_2024-05-01.csv\n",
      "Preparing bronze table feature_clickstream.csv\n",
      "Row Count for Date 2024-06-01 00:00:00 : 8974\n",
      "Bronze feature_clickstream Daily Date 2024-06-01 00:00:00 saved to : c:\\Users\\Admin\\Desktop\\SMU\\CS611\\cs611-assignment-1\\datamart\\bronze\\bronze_feature_clickstream_2024-06-01.csv\n",
      "Preparing bronze table feature_clickstream.csv\n",
      "Row Count for Date 2024-07-01 00:00:00 : 8974\n",
      "Bronze feature_clickstream Daily Date 2024-07-01 00:00:00 saved to : c:\\Users\\Admin\\Desktop\\SMU\\CS611\\cs611-assignment-1\\datamart\\bronze\\bronze_feature_clickstream_2024-07-01.csv\n",
      "Preparing bronze table feature_clickstream.csv\n",
      "Row Count for Date 2024-08-01 00:00:00 : 8974\n",
      "Bronze feature_clickstream Daily Date 2024-08-01 00:00:00 saved to : c:\\Users\\Admin\\Desktop\\SMU\\CS611\\cs611-assignment-1\\datamart\\bronze\\bronze_feature_clickstream_2024-08-01.csv\n",
      "Preparing bronze table feature_clickstream.csv\n",
      "Row Count for Date 2024-09-01 00:00:00 : 8974\n",
      "Bronze feature_clickstream Daily Date 2024-09-01 00:00:00 saved to : c:\\Users\\Admin\\Desktop\\SMU\\CS611\\cs611-assignment-1\\datamart\\bronze\\bronze_feature_clickstream_2024-09-01.csv\n",
      "Preparing bronze table feature_clickstream.csv\n",
      "Row Count for Date 2024-10-01 00:00:00 : 8974\n",
      "Bronze feature_clickstream Daily Date 2024-10-01 00:00:00 saved to : c:\\Users\\Admin\\Desktop\\SMU\\CS611\\cs611-assignment-1\\datamart\\bronze\\bronze_feature_clickstream_2024-10-01.csv\n",
      "Preparing bronze table feature_clickstream.csv\n",
      "Row Count for Date 2024-11-01 00:00:00 : 8974\n",
      "Bronze feature_clickstream Daily Date 2024-11-01 00:00:00 saved to : c:\\Users\\Admin\\Desktop\\SMU\\CS611\\cs611-assignment-1\\datamart\\bronze\\bronze_feature_clickstream_2024-11-01.csv\n",
      "Preparing bronze table feature_clickstream.csv\n",
      "Row Count for Date 2024-12-01 00:00:00 : 8974\n",
      "Bronze feature_clickstream Daily Date 2024-12-01 00:00:00 saved to : c:\\Users\\Admin\\Desktop\\SMU\\CS611\\cs611-assignment-1\\datamart\\bronze\\bronze_feature_clickstream_2024-12-01.csv\n",
      "Preparing bronze table lms_loan_daily.csv\n",
      "Row Count for Date 2023-01-01 00:00:00 : 530\n",
      "Bronze lms_loan_daily Daily Date 2023-01-01 00:00:00 saved to : c:\\Users\\Admin\\Desktop\\SMU\\CS611\\cs611-assignment-1\\datamart\\bronze\\bronze_lms_loan_daily_2023-01-01.csv\n",
      "Preparing bronze table lms_loan_daily.csv\n",
      "Row Count for Date 2023-02-01 00:00:00 : 1031\n",
      "Bronze lms_loan_daily Daily Date 2023-02-01 00:00:00 saved to : c:\\Users\\Admin\\Desktop\\SMU\\CS611\\cs611-assignment-1\\datamart\\bronze\\bronze_lms_loan_daily_2023-02-01.csv\n",
      "Preparing bronze table lms_loan_daily.csv\n",
      "Row Count for Date 2023-03-01 00:00:00 : 1537\n",
      "Bronze lms_loan_daily Daily Date 2023-03-01 00:00:00 saved to : c:\\Users\\Admin\\Desktop\\SMU\\CS611\\cs611-assignment-1\\datamart\\bronze\\bronze_lms_loan_daily_2023-03-01.csv\n",
      "Preparing bronze table lms_loan_daily.csv\n",
      "Row Count for Date 2023-04-01 00:00:00 : 2047\n",
      "Bronze lms_loan_daily Daily Date 2023-04-01 00:00:00 saved to : c:\\Users\\Admin\\Desktop\\SMU\\CS611\\cs611-assignment-1\\datamart\\bronze\\bronze_lms_loan_daily_2023-04-01.csv\n",
      "Preparing bronze table lms_loan_daily.csv\n",
      "Row Count for Date 2023-05-01 00:00:00 : 2568\n",
      "Bronze lms_loan_daily Daily Date 2023-05-01 00:00:00 saved to : c:\\Users\\Admin\\Desktop\\SMU\\CS611\\cs611-assignment-1\\datamart\\bronze\\bronze_lms_loan_daily_2023-05-01.csv\n",
      "Preparing bronze table lms_loan_daily.csv\n",
      "Row Count for Date 2023-06-01 00:00:00 : 3085\n",
      "Bronze lms_loan_daily Daily Date 2023-06-01 00:00:00 saved to : c:\\Users\\Admin\\Desktop\\SMU\\CS611\\cs611-assignment-1\\datamart\\bronze\\bronze_lms_loan_daily_2023-06-01.csv\n",
      "Preparing bronze table lms_loan_daily.csv\n",
      "Row Count for Date 2023-07-01 00:00:00 : 3556\n",
      "Bronze lms_loan_daily Daily Date 2023-07-01 00:00:00 saved to : c:\\Users\\Admin\\Desktop\\SMU\\CS611\\cs611-assignment-1\\datamart\\bronze\\bronze_lms_loan_daily_2023-07-01.csv\n",
      "Preparing bronze table lms_loan_daily.csv\n",
      "Row Count for Date 2023-08-01 00:00:00 : 4037\n",
      "Bronze lms_loan_daily Daily Date 2023-08-01 00:00:00 saved to : c:\\Users\\Admin\\Desktop\\SMU\\CS611\\cs611-assignment-1\\datamart\\bronze\\bronze_lms_loan_daily_2023-08-01.csv\n",
      "Preparing bronze table lms_loan_daily.csv\n",
      "Row Count for Date 2023-09-01 00:00:00 : 4491\n",
      "Bronze lms_loan_daily Daily Date 2023-09-01 00:00:00 saved to : c:\\Users\\Admin\\Desktop\\SMU\\CS611\\cs611-assignment-1\\datamart\\bronze\\bronze_lms_loan_daily_2023-09-01.csv\n",
      "Preparing bronze table lms_loan_daily.csv\n",
      "Row Count for Date 2023-10-01 00:00:00 : 4978\n",
      "Bronze lms_loan_daily Daily Date 2023-10-01 00:00:00 saved to : c:\\Users\\Admin\\Desktop\\SMU\\CS611\\cs611-assignment-1\\datamart\\bronze\\bronze_lms_loan_daily_2023-10-01.csv\n",
      "Preparing bronze table lms_loan_daily.csv\n",
      "Row Count for Date 2023-11-01 00:00:00 : 5469\n",
      "Bronze lms_loan_daily Daily Date 2023-11-01 00:00:00 saved to : c:\\Users\\Admin\\Desktop\\SMU\\CS611\\cs611-assignment-1\\datamart\\bronze\\bronze_lms_loan_daily_2023-11-01.csv\n",
      "Preparing bronze table lms_loan_daily.csv\n",
      "Row Count for Date 2023-12-01 00:00:00 : 5428\n",
      "Bronze lms_loan_daily Daily Date 2023-12-01 00:00:00 saved to : c:\\Users\\Admin\\Desktop\\SMU\\CS611\\cs611-assignment-1\\datamart\\bronze\\bronze_lms_loan_daily_2023-12-01.csv\n",
      "Preparing bronze table lms_loan_daily.csv\n",
      "Row Count for Date 2024-01-01 00:00:00 : 5412\n",
      "Bronze lms_loan_daily Daily Date 2024-01-01 00:00:00 saved to : c:\\Users\\Admin\\Desktop\\SMU\\CS611\\cs611-assignment-1\\datamart\\bronze\\bronze_lms_loan_daily_2024-01-01.csv\n",
      "Preparing bronze table lms_loan_daily.csv\n",
      "Row Count for Date 2024-02-01 00:00:00 : 5424\n",
      "Bronze lms_loan_daily Daily Date 2024-02-01 00:00:00 saved to : c:\\Users\\Admin\\Desktop\\SMU\\CS611\\cs611-assignment-1\\datamart\\bronze\\bronze_lms_loan_daily_2024-02-01.csv\n",
      "Preparing bronze table lms_loan_daily.csv\n",
      "Row Count for Date 2024-03-01 00:00:00 : 5425\n",
      "Bronze lms_loan_daily Daily Date 2024-03-01 00:00:00 saved to : c:\\Users\\Admin\\Desktop\\SMU\\CS611\\cs611-assignment-1\\datamart\\bronze\\bronze_lms_loan_daily_2024-03-01.csv\n",
      "Preparing bronze table lms_loan_daily.csv\n",
      "Row Count for Date 2024-04-01 00:00:00 : 5417\n",
      "Bronze lms_loan_daily Daily Date 2024-04-01 00:00:00 saved to : c:\\Users\\Admin\\Desktop\\SMU\\CS611\\cs611-assignment-1\\datamart\\bronze\\bronze_lms_loan_daily_2024-04-01.csv\n",
      "Preparing bronze table lms_loan_daily.csv\n",
      "Row Count for Date 2024-05-01 00:00:00 : 5391\n",
      "Bronze lms_loan_daily Daily Date 2024-05-01 00:00:00 saved to : c:\\Users\\Admin\\Desktop\\SMU\\CS611\\cs611-assignment-1\\datamart\\bronze\\bronze_lms_loan_daily_2024-05-01.csv\n",
      "Preparing bronze table lms_loan_daily.csv\n",
      "Row Count for Date 2024-06-01 00:00:00 : 5418\n",
      "Bronze lms_loan_daily Daily Date 2024-06-01 00:00:00 saved to : c:\\Users\\Admin\\Desktop\\SMU\\CS611\\cs611-assignment-1\\datamart\\bronze\\bronze_lms_loan_daily_2024-06-01.csv\n",
      "Preparing bronze table lms_loan_daily.csv\n",
      "Row Count for Date 2024-07-01 00:00:00 : 5442\n",
      "Bronze lms_loan_daily Daily Date 2024-07-01 00:00:00 saved to : c:\\Users\\Admin\\Desktop\\SMU\\CS611\\cs611-assignment-1\\datamart\\bronze\\bronze_lms_loan_daily_2024-07-01.csv\n",
      "Preparing bronze table lms_loan_daily.csv\n",
      "Row Count for Date 2024-08-01 00:00:00 : 5531\n",
      "Bronze lms_loan_daily Daily Date 2024-08-01 00:00:00 saved to : c:\\Users\\Admin\\Desktop\\SMU\\CS611\\cs611-assignment-1\\datamart\\bronze\\bronze_lms_loan_daily_2024-08-01.csv\n",
      "Preparing bronze table lms_loan_daily.csv\n",
      "Row Count for Date 2024-09-01 00:00:00 : 5537\n",
      "Bronze lms_loan_daily Daily Date 2024-09-01 00:00:00 saved to : c:\\Users\\Admin\\Desktop\\SMU\\CS611\\cs611-assignment-1\\datamart\\bronze\\bronze_lms_loan_daily_2024-09-01.csv\n",
      "Preparing bronze table lms_loan_daily.csv\n",
      "Row Count for Date 2024-10-01 00:00:00 : 5502\n",
      "Bronze lms_loan_daily Daily Date 2024-10-01 00:00:00 saved to : c:\\Users\\Admin\\Desktop\\SMU\\CS611\\cs611-assignment-1\\datamart\\bronze\\bronze_lms_loan_daily_2024-10-01.csv\n",
      "Preparing bronze table lms_loan_daily.csv\n",
      "Row Count for Date 2024-11-01 00:00:00 : 5501\n",
      "Bronze lms_loan_daily Daily Date 2024-11-01 00:00:00 saved to : c:\\Users\\Admin\\Desktop\\SMU\\CS611\\cs611-assignment-1\\datamart\\bronze\\bronze_lms_loan_daily_2024-11-01.csv\n",
      "Preparing bronze table lms_loan_daily.csv\n",
      "Row Count for Date 2024-12-01 00:00:00 : 5531\n",
      "Bronze lms_loan_daily Daily Date 2024-12-01 00:00:00 saved to : c:\\Users\\Admin\\Desktop\\SMU\\CS611\\cs611-assignment-1\\datamart\\bronze\\bronze_lms_loan_daily_2024-12-01.csv\n"
     ]
    }
   ],
   "source": [
    "data_prep_bronze(\"2023-01-01\", \"2024-12-01\", spark)"
   ]
  },
  {
   "cell_type": "code",
   "execution_count": 7,
   "metadata": {},
   "outputs": [
    {
     "name": "stdout",
     "output_type": "stream",
     "text": [
      "\n",
      "\n",
      "---starting Silver table job---\n",
      "\n",
      "\n",
      "Loaded c:\\Users\\Admin\\Desktop\\SMU\\CS611\\cs611-assignment-1\\datamart\\bronze\\bronze_lms_loan_daily_2023-01-01.csv, row count 530\n",
      "Saving File c:\\Users\\Admin\\Desktop\\SMU\\CS611\\cs611-assignment-1\\datamart\\silver\\silver_lms_loan_daily_2023-01-01.csv row count 530\n",
      "Loaded c:\\Users\\Admin\\Desktop\\SMU\\CS611\\cs611-assignment-1\\datamart\\bronze\\bronze_features_financial_2023-01-01.csv, row count 530\n",
      "Saving file : c:\\Users\\Admin\\Desktop\\SMU\\CS611\\cs611-assignment-1\\datamart\\silver\\silver_feature_financials_2023-01-01.csv row count 404\n",
      "Loaded c:\\Users\\Admin\\Desktop\\SMU\\CS611\\cs611-assignment-1\\datamart\\bronze\\bronze_features_attribute_2023-01-01.csv, row count Customer_ID      530\n",
      "Name             530\n",
      "Age              530\n",
      "SSN              530\n",
      "Occupation       530\n",
      "snapshot_date    530\n",
      "dtype: int64\n",
      "Saving file : c:\\Users\\Admin\\Desktop\\SMU\\CS611\\cs611-assignment-1\\datamart\\silver\\silver_feature_attributes_2023-01-01.csv row count 513\n",
      "Loaded c:\\Users\\Admin\\Desktop\\SMU\\CS611\\cs611-assignment-1\\datamart\\bronze\\bronze_feature_clickstream_2023-01-01.csv, row count 8974\n",
      "Saving File c:\\Users\\Admin\\Desktop\\SMU\\CS611\\cs611-assignment-1\\datamart\\silver\\silver_feature_clickstream_2023-01-01.csv row count 8974\n",
      "Loaded c:\\Users\\Admin\\Desktop\\SMU\\CS611\\cs611-assignment-1\\datamart\\bronze\\bronze_lms_loan_daily_2023-02-01.csv, row count 1031\n",
      "Saving File c:\\Users\\Admin\\Desktop\\SMU\\CS611\\cs611-assignment-1\\datamart\\silver\\silver_lms_loan_daily_2023-02-01.csv row count 1031\n",
      "Loaded c:\\Users\\Admin\\Desktop\\SMU\\CS611\\cs611-assignment-1\\datamart\\bronze\\bronze_features_financial_2023-02-01.csv, row count 501\n",
      "Saving file : c:\\Users\\Admin\\Desktop\\SMU\\CS611\\cs611-assignment-1\\datamart\\silver\\silver_feature_financials_2023-02-01.csv row count 390\n",
      "Loaded c:\\Users\\Admin\\Desktop\\SMU\\CS611\\cs611-assignment-1\\datamart\\bronze\\bronze_features_attribute_2023-02-01.csv, row count Customer_ID      501\n",
      "Name             501\n",
      "Age              501\n",
      "SSN              501\n",
      "Occupation       501\n",
      "snapshot_date    501\n",
      "dtype: int64\n",
      "Saving file : c:\\Users\\Admin\\Desktop\\SMU\\CS611\\cs611-assignment-1\\datamart\\silver\\silver_feature_attributes_2023-02-01.csv row count 490\n",
      "Loaded c:\\Users\\Admin\\Desktop\\SMU\\CS611\\cs611-assignment-1\\datamart\\bronze\\bronze_feature_clickstream_2023-02-01.csv, row count 8974\n",
      "Saving File c:\\Users\\Admin\\Desktop\\SMU\\CS611\\cs611-assignment-1\\datamart\\silver\\silver_feature_clickstream_2023-02-01.csv row count 8974\n",
      "Loaded c:\\Users\\Admin\\Desktop\\SMU\\CS611\\cs611-assignment-1\\datamart\\bronze\\bronze_lms_loan_daily_2023-03-01.csv, row count 1537\n",
      "Saving File c:\\Users\\Admin\\Desktop\\SMU\\CS611\\cs611-assignment-1\\datamart\\silver\\silver_lms_loan_daily_2023-03-01.csv row count 1537\n",
      "Loaded c:\\Users\\Admin\\Desktop\\SMU\\CS611\\cs611-assignment-1\\datamart\\bronze\\bronze_features_financial_2023-03-01.csv, row count 506\n",
      "Saving file : c:\\Users\\Admin\\Desktop\\SMU\\CS611\\cs611-assignment-1\\datamart\\silver\\silver_feature_financials_2023-03-01.csv row count 400\n",
      "Loaded c:\\Users\\Admin\\Desktop\\SMU\\CS611\\cs611-assignment-1\\datamart\\bronze\\bronze_features_attribute_2023-03-01.csv, row count Customer_ID      506\n",
      "Name             506\n",
      "Age              506\n",
      "SSN              506\n",
      "Occupation       506\n",
      "snapshot_date    506\n",
      "dtype: int64\n",
      "Saving file : c:\\Users\\Admin\\Desktop\\SMU\\CS611\\cs611-assignment-1\\datamart\\silver\\silver_feature_attributes_2023-03-01.csv row count 489\n",
      "Loaded c:\\Users\\Admin\\Desktop\\SMU\\CS611\\cs611-assignment-1\\datamart\\bronze\\bronze_feature_clickstream_2023-03-01.csv, row count 8974\n",
      "Saving File c:\\Users\\Admin\\Desktop\\SMU\\CS611\\cs611-assignment-1\\datamart\\silver\\silver_feature_clickstream_2023-03-01.csv row count 8974\n",
      "Loaded c:\\Users\\Admin\\Desktop\\SMU\\CS611\\cs611-assignment-1\\datamart\\bronze\\bronze_lms_loan_daily_2023-04-01.csv, row count 2047\n",
      "Saving File c:\\Users\\Admin\\Desktop\\SMU\\CS611\\cs611-assignment-1\\datamart\\silver\\silver_lms_loan_daily_2023-04-01.csv row count 2047\n",
      "Loaded c:\\Users\\Admin\\Desktop\\SMU\\CS611\\cs611-assignment-1\\datamart\\bronze\\bronze_features_financial_2023-04-01.csv, row count 510\n",
      "Saving file : c:\\Users\\Admin\\Desktop\\SMU\\CS611\\cs611-assignment-1\\datamart\\silver\\silver_feature_financials_2023-04-01.csv row count 407\n",
      "Loaded c:\\Users\\Admin\\Desktop\\SMU\\CS611\\cs611-assignment-1\\datamart\\bronze\\bronze_features_attribute_2023-04-01.csv, row count Customer_ID      510\n",
      "Name             510\n",
      "Age              510\n",
      "SSN              510\n",
      "Occupation       510\n",
      "snapshot_date    510\n",
      "dtype: int64\n",
      "Saving file : c:\\Users\\Admin\\Desktop\\SMU\\CS611\\cs611-assignment-1\\datamart\\silver\\silver_feature_attributes_2023-04-01.csv row count 494\n",
      "Loaded c:\\Users\\Admin\\Desktop\\SMU\\CS611\\cs611-assignment-1\\datamart\\bronze\\bronze_feature_clickstream_2023-04-01.csv, row count 8974\n",
      "Saving File c:\\Users\\Admin\\Desktop\\SMU\\CS611\\cs611-assignment-1\\datamart\\silver\\silver_feature_clickstream_2023-04-01.csv row count 8974\n",
      "Loaded c:\\Users\\Admin\\Desktop\\SMU\\CS611\\cs611-assignment-1\\datamart\\bronze\\bronze_lms_loan_daily_2023-05-01.csv, row count 2568\n",
      "Saving File c:\\Users\\Admin\\Desktop\\SMU\\CS611\\cs611-assignment-1\\datamart\\silver\\silver_lms_loan_daily_2023-05-01.csv row count 2568\n",
      "Loaded c:\\Users\\Admin\\Desktop\\SMU\\CS611\\cs611-assignment-1\\datamart\\bronze\\bronze_features_financial_2023-05-01.csv, row count 521\n",
      "Saving file : c:\\Users\\Admin\\Desktop\\SMU\\CS611\\cs611-assignment-1\\datamart\\silver\\silver_feature_financials_2023-05-01.csv row count 417\n",
      "Loaded c:\\Users\\Admin\\Desktop\\SMU\\CS611\\cs611-assignment-1\\datamart\\bronze\\bronze_features_attribute_2023-05-01.csv, row count Customer_ID      521\n",
      "Name             521\n",
      "Age              521\n",
      "SSN              521\n",
      "Occupation       521\n",
      "snapshot_date    521\n",
      "dtype: int64\n",
      "Saving file : c:\\Users\\Admin\\Desktop\\SMU\\CS611\\cs611-assignment-1\\datamart\\silver\\silver_feature_attributes_2023-05-01.csv row count 507\n",
      "Loaded c:\\Users\\Admin\\Desktop\\SMU\\CS611\\cs611-assignment-1\\datamart\\bronze\\bronze_feature_clickstream_2023-05-01.csv, row count 8974\n",
      "Saving File c:\\Users\\Admin\\Desktop\\SMU\\CS611\\cs611-assignment-1\\datamart\\silver\\silver_feature_clickstream_2023-05-01.csv row count 8974\n",
      "Loaded c:\\Users\\Admin\\Desktop\\SMU\\CS611\\cs611-assignment-1\\datamart\\bronze\\bronze_lms_loan_daily_2023-06-01.csv, row count 3085\n",
      "Saving File c:\\Users\\Admin\\Desktop\\SMU\\CS611\\cs611-assignment-1\\datamart\\silver\\silver_lms_loan_daily_2023-06-01.csv row count 3085\n",
      "Loaded c:\\Users\\Admin\\Desktop\\SMU\\CS611\\cs611-assignment-1\\datamart\\bronze\\bronze_features_financial_2023-06-01.csv, row count 517\n",
      "Saving file : c:\\Users\\Admin\\Desktop\\SMU\\CS611\\cs611-assignment-1\\datamart\\silver\\silver_feature_financials_2023-06-01.csv row count 413\n",
      "Loaded c:\\Users\\Admin\\Desktop\\SMU\\CS611\\cs611-assignment-1\\datamart\\bronze\\bronze_features_attribute_2023-06-01.csv, row count Customer_ID      517\n",
      "Name             517\n",
      "Age              517\n",
      "SSN              517\n",
      "Occupation       517\n",
      "snapshot_date    517\n",
      "dtype: int64\n",
      "Saving file : c:\\Users\\Admin\\Desktop\\SMU\\CS611\\cs611-assignment-1\\datamart\\silver\\silver_feature_attributes_2023-06-01.csv row count 501\n",
      "Loaded c:\\Users\\Admin\\Desktop\\SMU\\CS611\\cs611-assignment-1\\datamart\\bronze\\bronze_feature_clickstream_2023-06-01.csv, row count 8974\n",
      "Saving File c:\\Users\\Admin\\Desktop\\SMU\\CS611\\cs611-assignment-1\\datamart\\silver\\silver_feature_clickstream_2023-06-01.csv row count 8974\n",
      "Loaded c:\\Users\\Admin\\Desktop\\SMU\\CS611\\cs611-assignment-1\\datamart\\bronze\\bronze_lms_loan_daily_2023-07-01.csv, row count 3556\n",
      "Saving File c:\\Users\\Admin\\Desktop\\SMU\\CS611\\cs611-assignment-1\\datamart\\silver\\silver_lms_loan_daily_2023-07-01.csv row count 3556\n",
      "Loaded c:\\Users\\Admin\\Desktop\\SMU\\CS611\\cs611-assignment-1\\datamart\\bronze\\bronze_features_financial_2023-07-01.csv, row count 471\n",
      "Saving file : c:\\Users\\Admin\\Desktop\\SMU\\CS611\\cs611-assignment-1\\datamart\\silver\\silver_feature_financials_2023-07-01.csv row count 379\n",
      "Loaded c:\\Users\\Admin\\Desktop\\SMU\\CS611\\cs611-assignment-1\\datamart\\bronze\\bronze_features_attribute_2023-07-01.csv, row count Customer_ID      471\n",
      "Name             471\n",
      "Age              471\n",
      "SSN              471\n",
      "Occupation       471\n",
      "snapshot_date    471\n",
      "dtype: int64\n",
      "Saving file : c:\\Users\\Admin\\Desktop\\SMU\\CS611\\cs611-assignment-1\\datamart\\silver\\silver_feature_attributes_2023-07-01.csv row count 462\n",
      "Loaded c:\\Users\\Admin\\Desktop\\SMU\\CS611\\cs611-assignment-1\\datamart\\bronze\\bronze_feature_clickstream_2023-07-01.csv, row count 8974\n",
      "Saving File c:\\Users\\Admin\\Desktop\\SMU\\CS611\\cs611-assignment-1\\datamart\\silver\\silver_feature_clickstream_2023-07-01.csv row count 8974\n",
      "Loaded c:\\Users\\Admin\\Desktop\\SMU\\CS611\\cs611-assignment-1\\datamart\\bronze\\bronze_lms_loan_daily_2023-08-01.csv, row count 4037\n",
      "Saving File c:\\Users\\Admin\\Desktop\\SMU\\CS611\\cs611-assignment-1\\datamart\\silver\\silver_lms_loan_daily_2023-08-01.csv row count 4037\n",
      "Loaded c:\\Users\\Admin\\Desktop\\SMU\\CS611\\cs611-assignment-1\\datamart\\bronze\\bronze_features_financial_2023-08-01.csv, row count 481\n",
      "Saving file : c:\\Users\\Admin\\Desktop\\SMU\\CS611\\cs611-assignment-1\\datamart\\silver\\silver_feature_financials_2023-08-01.csv row count 398\n",
      "Loaded c:\\Users\\Admin\\Desktop\\SMU\\CS611\\cs611-assignment-1\\datamart\\bronze\\bronze_features_attribute_2023-08-01.csv, row count Customer_ID      481\n",
      "Name             481\n",
      "Age              481\n",
      "SSN              481\n",
      "Occupation       481\n",
      "snapshot_date    481\n",
      "dtype: int64\n",
      "Saving file : c:\\Users\\Admin\\Desktop\\SMU\\CS611\\cs611-assignment-1\\datamart\\silver\\silver_feature_attributes_2023-08-01.csv row count 467\n",
      "Loaded c:\\Users\\Admin\\Desktop\\SMU\\CS611\\cs611-assignment-1\\datamart\\bronze\\bronze_feature_clickstream_2023-08-01.csv, row count 8974\n",
      "Saving File c:\\Users\\Admin\\Desktop\\SMU\\CS611\\cs611-assignment-1\\datamart\\silver\\silver_feature_clickstream_2023-08-01.csv row count 8974\n",
      "Loaded c:\\Users\\Admin\\Desktop\\SMU\\CS611\\cs611-assignment-1\\datamart\\bronze\\bronze_lms_loan_daily_2023-09-01.csv, row count 4491\n",
      "Saving File c:\\Users\\Admin\\Desktop\\SMU\\CS611\\cs611-assignment-1\\datamart\\silver\\silver_lms_loan_daily_2023-09-01.csv row count 4491\n",
      "Loaded c:\\Users\\Admin\\Desktop\\SMU\\CS611\\cs611-assignment-1\\datamart\\bronze\\bronze_features_financial_2023-09-01.csv, row count 454\n",
      "Saving file : c:\\Users\\Admin\\Desktop\\SMU\\CS611\\cs611-assignment-1\\datamart\\silver\\silver_feature_financials_2023-09-01.csv row count 363\n",
      "Loaded c:\\Users\\Admin\\Desktop\\SMU\\CS611\\cs611-assignment-1\\datamart\\bronze\\bronze_features_attribute_2023-09-01.csv, row count Customer_ID      454\n",
      "Name             454\n",
      "Age              454\n",
      "SSN              454\n",
      "Occupation       454\n",
      "snapshot_date    454\n",
      "dtype: int64\n",
      "Saving file : c:\\Users\\Admin\\Desktop\\SMU\\CS611\\cs611-assignment-1\\datamart\\silver\\silver_feature_attributes_2023-09-01.csv row count 443\n",
      "Loaded c:\\Users\\Admin\\Desktop\\SMU\\CS611\\cs611-assignment-1\\datamart\\bronze\\bronze_feature_clickstream_2023-09-01.csv, row count 8974\n",
      "Saving File c:\\Users\\Admin\\Desktop\\SMU\\CS611\\cs611-assignment-1\\datamart\\silver\\silver_feature_clickstream_2023-09-01.csv row count 8974\n",
      "Loaded c:\\Users\\Admin\\Desktop\\SMU\\CS611\\cs611-assignment-1\\datamart\\bronze\\bronze_lms_loan_daily_2023-10-01.csv, row count 4978\n",
      "Saving File c:\\Users\\Admin\\Desktop\\SMU\\CS611\\cs611-assignment-1\\datamart\\silver\\silver_lms_loan_daily_2023-10-01.csv row count 4978\n",
      "Loaded c:\\Users\\Admin\\Desktop\\SMU\\CS611\\cs611-assignment-1\\datamart\\bronze\\bronze_features_financial_2023-10-01.csv, row count 487\n",
      "Saving file : c:\\Users\\Admin\\Desktop\\SMU\\CS611\\cs611-assignment-1\\datamart\\silver\\silver_feature_financials_2023-10-01.csv row count 385\n",
      "Loaded c:\\Users\\Admin\\Desktop\\SMU\\CS611\\cs611-assignment-1\\datamart\\bronze\\bronze_features_attribute_2023-10-01.csv, row count Customer_ID      487\n",
      "Name             487\n",
      "Age              487\n",
      "SSN              487\n",
      "Occupation       487\n",
      "snapshot_date    487\n",
      "dtype: int64\n",
      "Saving file : c:\\Users\\Admin\\Desktop\\SMU\\CS611\\cs611-assignment-1\\datamart\\silver\\silver_feature_attributes_2023-10-01.csv row count 475\n",
      "Loaded c:\\Users\\Admin\\Desktop\\SMU\\CS611\\cs611-assignment-1\\datamart\\bronze\\bronze_feature_clickstream_2023-10-01.csv, row count 8974\n",
      "Saving File c:\\Users\\Admin\\Desktop\\SMU\\CS611\\cs611-assignment-1\\datamart\\silver\\silver_feature_clickstream_2023-10-01.csv row count 8974\n",
      "Loaded c:\\Users\\Admin\\Desktop\\SMU\\CS611\\cs611-assignment-1\\datamart\\bronze\\bronze_lms_loan_daily_2023-11-01.csv, row count 5469\n",
      "Saving File c:\\Users\\Admin\\Desktop\\SMU\\CS611\\cs611-assignment-1\\datamart\\silver\\silver_lms_loan_daily_2023-11-01.csv row count 5469\n",
      "Loaded c:\\Users\\Admin\\Desktop\\SMU\\CS611\\cs611-assignment-1\\datamart\\bronze\\bronze_features_financial_2023-11-01.csv, row count 491\n",
      "Saving file : c:\\Users\\Admin\\Desktop\\SMU\\CS611\\cs611-assignment-1\\datamart\\silver\\silver_feature_financials_2023-11-01.csv row count 393\n",
      "Loaded c:\\Users\\Admin\\Desktop\\SMU\\CS611\\cs611-assignment-1\\datamart\\bronze\\bronze_features_attribute_2023-11-01.csv, row count Customer_ID      491\n",
      "Name             491\n",
      "Age              491\n",
      "SSN              491\n",
      "Occupation       491\n",
      "snapshot_date    491\n",
      "dtype: int64\n",
      "Saving file : c:\\Users\\Admin\\Desktop\\SMU\\CS611\\cs611-assignment-1\\datamart\\silver\\silver_feature_attributes_2023-11-01.csv row count 480\n",
      "Loaded c:\\Users\\Admin\\Desktop\\SMU\\CS611\\cs611-assignment-1\\datamart\\bronze\\bronze_feature_clickstream_2023-11-01.csv, row count 8974\n",
      "Saving File c:\\Users\\Admin\\Desktop\\SMU\\CS611\\cs611-assignment-1\\datamart\\silver\\silver_feature_clickstream_2023-11-01.csv row count 8974\n",
      "Loaded c:\\Users\\Admin\\Desktop\\SMU\\CS611\\cs611-assignment-1\\datamart\\bronze\\bronze_lms_loan_daily_2023-12-01.csv, row count 5428\n",
      "Saving File c:\\Users\\Admin\\Desktop\\SMU\\CS611\\cs611-assignment-1\\datamart\\silver\\silver_lms_loan_daily_2023-12-01.csv row count 5428\n",
      "Loaded c:\\Users\\Admin\\Desktop\\SMU\\CS611\\cs611-assignment-1\\datamart\\bronze\\bronze_features_financial_2023-12-01.csv, row count 489\n",
      "Saving file : c:\\Users\\Admin\\Desktop\\SMU\\CS611\\cs611-assignment-1\\datamart\\silver\\silver_feature_financials_2023-12-01.csv row count 394\n",
      "Loaded c:\\Users\\Admin\\Desktop\\SMU\\CS611\\cs611-assignment-1\\datamart\\bronze\\bronze_features_attribute_2023-12-01.csv, row count Customer_ID      489\n",
      "Name             489\n",
      "Age              489\n",
      "SSN              489\n",
      "Occupation       489\n",
      "snapshot_date    489\n",
      "dtype: int64\n",
      "Saving file : c:\\Users\\Admin\\Desktop\\SMU\\CS611\\cs611-assignment-1\\datamart\\silver\\silver_feature_attributes_2023-12-01.csv row count 477\n",
      "Loaded c:\\Users\\Admin\\Desktop\\SMU\\CS611\\cs611-assignment-1\\datamart\\bronze\\bronze_feature_clickstream_2023-12-01.csv, row count 8974\n",
      "Saving File c:\\Users\\Admin\\Desktop\\SMU\\CS611\\cs611-assignment-1\\datamart\\silver\\silver_feature_clickstream_2023-12-01.csv row count 8974\n",
      "Loaded c:\\Users\\Admin\\Desktop\\SMU\\CS611\\cs611-assignment-1\\datamart\\bronze\\bronze_lms_loan_daily_2024-01-01.csv, row count 5412\n",
      "Saving File c:\\Users\\Admin\\Desktop\\SMU\\CS611\\cs611-assignment-1\\datamart\\silver\\silver_lms_loan_daily_2024-01-01.csv row count 5412\n",
      "Loaded c:\\Users\\Admin\\Desktop\\SMU\\CS611\\cs611-assignment-1\\datamart\\bronze\\bronze_features_financial_2024-01-01.csv, row count 485\n",
      "Saving file : c:\\Users\\Admin\\Desktop\\SMU\\CS611\\cs611-assignment-1\\datamart\\silver\\silver_feature_financials_2024-01-01.csv row count 394\n",
      "Loaded c:\\Users\\Admin\\Desktop\\SMU\\CS611\\cs611-assignment-1\\datamart\\bronze\\bronze_features_attribute_2024-01-01.csv, row count Customer_ID      485\n",
      "Name             485\n",
      "Age              485\n",
      "SSN              485\n",
      "Occupation       485\n",
      "snapshot_date    485\n",
      "dtype: int64\n",
      "Saving file : c:\\Users\\Admin\\Desktop\\SMU\\CS611\\cs611-assignment-1\\datamart\\silver\\silver_feature_attributes_2024-01-01.csv row count 476\n",
      "Loaded c:\\Users\\Admin\\Desktop\\SMU\\CS611\\cs611-assignment-1\\datamart\\bronze\\bronze_feature_clickstream_2024-01-01.csv, row count 8974\n",
      "Saving File c:\\Users\\Admin\\Desktop\\SMU\\CS611\\cs611-assignment-1\\datamart\\silver\\silver_feature_clickstream_2024-01-01.csv row count 8974\n",
      "Loaded c:\\Users\\Admin\\Desktop\\SMU\\CS611\\cs611-assignment-1\\datamart\\bronze\\bronze_lms_loan_daily_2024-02-01.csv, row count 5424\n",
      "Saving File c:\\Users\\Admin\\Desktop\\SMU\\CS611\\cs611-assignment-1\\datamart\\silver\\silver_lms_loan_daily_2024-02-01.csv row count 5424\n",
      "Loaded c:\\Users\\Admin\\Desktop\\SMU\\CS611\\cs611-assignment-1\\datamart\\bronze\\bronze_features_financial_2024-02-01.csv, row count 518\n",
      "Saving file : c:\\Users\\Admin\\Desktop\\SMU\\CS611\\cs611-assignment-1\\datamart\\silver\\silver_feature_financials_2024-02-01.csv row count 417\n",
      "Loaded c:\\Users\\Admin\\Desktop\\SMU\\CS611\\cs611-assignment-1\\datamart\\bronze\\bronze_features_attribute_2024-02-01.csv, row count Customer_ID      518\n",
      "Name             518\n",
      "Age              518\n",
      "SSN              518\n",
      "Occupation       518\n",
      "snapshot_date    518\n",
      "dtype: int64\n",
      "Saving file : c:\\Users\\Admin\\Desktop\\SMU\\CS611\\cs611-assignment-1\\datamart\\silver\\silver_feature_attributes_2024-02-01.csv row count 507\n",
      "Loaded c:\\Users\\Admin\\Desktop\\SMU\\CS611\\cs611-assignment-1\\datamart\\bronze\\bronze_feature_clickstream_2024-02-01.csv, row count 8974\n",
      "Saving File c:\\Users\\Admin\\Desktop\\SMU\\CS611\\cs611-assignment-1\\datamart\\silver\\silver_feature_clickstream_2024-02-01.csv row count 8974\n",
      "Loaded c:\\Users\\Admin\\Desktop\\SMU\\CS611\\cs611-assignment-1\\datamart\\bronze\\bronze_lms_loan_daily_2024-03-01.csv, row count 5425\n",
      "Saving File c:\\Users\\Admin\\Desktop\\SMU\\CS611\\cs611-assignment-1\\datamart\\silver\\silver_lms_loan_daily_2024-03-01.csv row count 5425\n",
      "Loaded c:\\Users\\Admin\\Desktop\\SMU\\CS611\\cs611-assignment-1\\datamart\\bronze\\bronze_features_financial_2024-03-01.csv, row count 511\n",
      "Saving file : c:\\Users\\Admin\\Desktop\\SMU\\CS611\\cs611-assignment-1\\datamart\\silver\\silver_feature_financials_2024-03-01.csv row count 416\n",
      "Loaded c:\\Users\\Admin\\Desktop\\SMU\\CS611\\cs611-assignment-1\\datamart\\bronze\\bronze_features_attribute_2024-03-01.csv, row count Customer_ID      511\n",
      "Name             511\n",
      "Age              511\n",
      "SSN              511\n",
      "Occupation       511\n",
      "snapshot_date    511\n",
      "dtype: int64\n",
      "Saving file : c:\\Users\\Admin\\Desktop\\SMU\\CS611\\cs611-assignment-1\\datamart\\silver\\silver_feature_attributes_2024-03-01.csv row count 504\n",
      "Loaded c:\\Users\\Admin\\Desktop\\SMU\\CS611\\cs611-assignment-1\\datamart\\bronze\\bronze_feature_clickstream_2024-03-01.csv, row count 8974\n",
      "Saving File c:\\Users\\Admin\\Desktop\\SMU\\CS611\\cs611-assignment-1\\datamart\\silver\\silver_feature_clickstream_2024-03-01.csv row count 8974\n",
      "Loaded c:\\Users\\Admin\\Desktop\\SMU\\CS611\\cs611-assignment-1\\datamart\\bronze\\bronze_lms_loan_daily_2024-04-01.csv, row count 5417\n",
      "Saving File c:\\Users\\Admin\\Desktop\\SMU\\CS611\\cs611-assignment-1\\datamart\\silver\\silver_lms_loan_daily_2024-04-01.csv row count 5417\n",
      "Loaded c:\\Users\\Admin\\Desktop\\SMU\\CS611\\cs611-assignment-1\\datamart\\bronze\\bronze_features_financial_2024-04-01.csv, row count 513\n",
      "Saving file : c:\\Users\\Admin\\Desktop\\SMU\\CS611\\cs611-assignment-1\\datamart\\silver\\silver_feature_financials_2024-04-01.csv row count 417\n",
      "Loaded c:\\Users\\Admin\\Desktop\\SMU\\CS611\\cs611-assignment-1\\datamart\\bronze\\bronze_features_attribute_2024-04-01.csv, row count Customer_ID      513\n",
      "Name             513\n",
      "Age              513\n",
      "SSN              513\n",
      "Occupation       513\n",
      "snapshot_date    513\n",
      "dtype: int64\n",
      "Saving file : c:\\Users\\Admin\\Desktop\\SMU\\CS611\\cs611-assignment-1\\datamart\\silver\\silver_feature_attributes_2024-04-01.csv row count 500\n",
      "Loaded c:\\Users\\Admin\\Desktop\\SMU\\CS611\\cs611-assignment-1\\datamart\\bronze\\bronze_feature_clickstream_2024-04-01.csv, row count 8974\n",
      "Saving File c:\\Users\\Admin\\Desktop\\SMU\\CS611\\cs611-assignment-1\\datamart\\silver\\silver_feature_clickstream_2024-04-01.csv row count 8974\n",
      "Loaded c:\\Users\\Admin\\Desktop\\SMU\\CS611\\cs611-assignment-1\\datamart\\bronze\\bronze_lms_loan_daily_2024-05-01.csv, row count 5391\n",
      "Saving File c:\\Users\\Admin\\Desktop\\SMU\\CS611\\cs611-assignment-1\\datamart\\silver\\silver_lms_loan_daily_2024-05-01.csv row count 5391\n",
      "Loaded c:\\Users\\Admin\\Desktop\\SMU\\CS611\\cs611-assignment-1\\datamart\\bronze\\bronze_features_financial_2024-05-01.csv, row count 491\n",
      "Saving file : c:\\Users\\Admin\\Desktop\\SMU\\CS611\\cs611-assignment-1\\datamart\\silver\\silver_feature_financials_2024-05-01.csv row count 395\n",
      "Loaded c:\\Users\\Admin\\Desktop\\SMU\\CS611\\cs611-assignment-1\\datamart\\bronze\\bronze_features_attribute_2024-05-01.csv, row count Customer_ID      491\n",
      "Name             491\n",
      "Age              491\n",
      "SSN              491\n",
      "Occupation       491\n",
      "snapshot_date    491\n",
      "dtype: int64\n",
      "Saving file : c:\\Users\\Admin\\Desktop\\SMU\\CS611\\cs611-assignment-1\\datamart\\silver\\silver_feature_attributes_2024-05-01.csv row count 478\n",
      "Loaded c:\\Users\\Admin\\Desktop\\SMU\\CS611\\cs611-assignment-1\\datamart\\bronze\\bronze_feature_clickstream_2024-05-01.csv, row count 8974\n",
      "Saving File c:\\Users\\Admin\\Desktop\\SMU\\CS611\\cs611-assignment-1\\datamart\\silver\\silver_feature_clickstream_2024-05-01.csv row count 8974\n",
      "Loaded c:\\Users\\Admin\\Desktop\\SMU\\CS611\\cs611-assignment-1\\datamart\\bronze\\bronze_lms_loan_daily_2024-06-01.csv, row count 5418\n",
      "Saving File c:\\Users\\Admin\\Desktop\\SMU\\CS611\\cs611-assignment-1\\datamart\\silver\\silver_lms_loan_daily_2024-06-01.csv row count 5418\n",
      "Loaded c:\\Users\\Admin\\Desktop\\SMU\\CS611\\cs611-assignment-1\\datamart\\bronze\\bronze_features_financial_2024-06-01.csv, row count 498\n",
      "Saving file : c:\\Users\\Admin\\Desktop\\SMU\\CS611\\cs611-assignment-1\\datamart\\silver\\silver_feature_financials_2024-06-01.csv row count 407\n",
      "Loaded c:\\Users\\Admin\\Desktop\\SMU\\CS611\\cs611-assignment-1\\datamart\\bronze\\bronze_features_attribute_2024-06-01.csv, row count Customer_ID      498\n",
      "Name             498\n",
      "Age              498\n",
      "SSN              498\n",
      "Occupation       498\n",
      "snapshot_date    498\n",
      "dtype: int64\n",
      "Saving file : c:\\Users\\Admin\\Desktop\\SMU\\CS611\\cs611-assignment-1\\datamart\\silver\\silver_feature_attributes_2024-06-01.csv row count 481\n",
      "Loaded c:\\Users\\Admin\\Desktop\\SMU\\CS611\\cs611-assignment-1\\datamart\\bronze\\bronze_feature_clickstream_2024-06-01.csv, row count 8974\n",
      "Saving File c:\\Users\\Admin\\Desktop\\SMU\\CS611\\cs611-assignment-1\\datamart\\silver\\silver_feature_clickstream_2024-06-01.csv row count 8974\n",
      "Loaded c:\\Users\\Admin\\Desktop\\SMU\\CS611\\cs611-assignment-1\\datamart\\bronze\\bronze_lms_loan_daily_2024-07-01.csv, row count 5442\n",
      "Saving File c:\\Users\\Admin\\Desktop\\SMU\\CS611\\cs611-assignment-1\\datamart\\silver\\silver_lms_loan_daily_2024-07-01.csv row count 5442\n",
      "Loaded c:\\Users\\Admin\\Desktop\\SMU\\CS611\\cs611-assignment-1\\datamart\\bronze\\bronze_features_financial_2024-07-01.csv, row count 505\n",
      "Saving file : c:\\Users\\Admin\\Desktop\\SMU\\CS611\\cs611-assignment-1\\datamart\\silver\\silver_feature_financials_2024-07-01.csv row count 411\n",
      "Loaded c:\\Users\\Admin\\Desktop\\SMU\\CS611\\cs611-assignment-1\\datamart\\bronze\\bronze_features_attribute_2024-07-01.csv, row count Customer_ID      505\n",
      "Name             505\n",
      "Age              505\n",
      "SSN              505\n",
      "Occupation       505\n",
      "snapshot_date    505\n",
      "dtype: int64\n",
      "Saving file : c:\\Users\\Admin\\Desktop\\SMU\\CS611\\cs611-assignment-1\\datamart\\silver\\silver_feature_attributes_2024-07-01.csv row count 495\n",
      "Loaded c:\\Users\\Admin\\Desktop\\SMU\\CS611\\cs611-assignment-1\\datamart\\bronze\\bronze_feature_clickstream_2024-07-01.csv, row count 8974\n",
      "Saving File c:\\Users\\Admin\\Desktop\\SMU\\CS611\\cs611-assignment-1\\datamart\\silver\\silver_feature_clickstream_2024-07-01.csv row count 8974\n",
      "Loaded c:\\Users\\Admin\\Desktop\\SMU\\CS611\\cs611-assignment-1\\datamart\\bronze\\bronze_lms_loan_daily_2024-08-01.csv, row count 5531\n",
      "Saving File c:\\Users\\Admin\\Desktop\\SMU\\CS611\\cs611-assignment-1\\datamart\\silver\\silver_lms_loan_daily_2024-08-01.csv row count 5531\n",
      "Loaded c:\\Users\\Admin\\Desktop\\SMU\\CS611\\cs611-assignment-1\\datamart\\bronze\\bronze_features_financial_2024-08-01.csv, row count 543\n",
      "Saving file : c:\\Users\\Admin\\Desktop\\SMU\\CS611\\cs611-assignment-1\\datamart\\silver\\silver_feature_financials_2024-08-01.csv row count 425\n",
      "Loaded c:\\Users\\Admin\\Desktop\\SMU\\CS611\\cs611-assignment-1\\datamart\\bronze\\bronze_features_attribute_2024-08-01.csv, row count Customer_ID      543\n",
      "Name             543\n",
      "Age              543\n",
      "SSN              543\n",
      "Occupation       543\n",
      "snapshot_date    543\n",
      "dtype: int64\n",
      "Saving file : c:\\Users\\Admin\\Desktop\\SMU\\CS611\\cs611-assignment-1\\datamart\\silver\\silver_feature_attributes_2024-08-01.csv row count 531\n",
      "Loaded c:\\Users\\Admin\\Desktop\\SMU\\CS611\\cs611-assignment-1\\datamart\\bronze\\bronze_feature_clickstream_2024-08-01.csv, row count 8974\n",
      "Saving File c:\\Users\\Admin\\Desktop\\SMU\\CS611\\cs611-assignment-1\\datamart\\silver\\silver_feature_clickstream_2024-08-01.csv row count 8974\n",
      "Loaded c:\\Users\\Admin\\Desktop\\SMU\\CS611\\cs611-assignment-1\\datamart\\bronze\\bronze_lms_loan_daily_2024-09-01.csv, row count 5537\n",
      "Saving File c:\\Users\\Admin\\Desktop\\SMU\\CS611\\cs611-assignment-1\\datamart\\silver\\silver_lms_loan_daily_2024-09-01.csv row count 5537\n",
      "Loaded c:\\Users\\Admin\\Desktop\\SMU\\CS611\\cs611-assignment-1\\datamart\\bronze\\bronze_features_financial_2024-09-01.csv, row count 493\n",
      "Saving file : c:\\Users\\Admin\\Desktop\\SMU\\CS611\\cs611-assignment-1\\datamart\\silver\\silver_feature_financials_2024-09-01.csv row count 398\n",
      "Loaded c:\\Users\\Admin\\Desktop\\SMU\\CS611\\cs611-assignment-1\\datamart\\bronze\\bronze_features_attribute_2024-09-01.csv, row count Customer_ID      493\n",
      "Name             493\n",
      "Age              493\n",
      "SSN              493\n",
      "Occupation       493\n",
      "snapshot_date    493\n",
      "dtype: int64\n",
      "Saving file : c:\\Users\\Admin\\Desktop\\SMU\\CS611\\cs611-assignment-1\\datamart\\silver\\silver_feature_attributes_2024-09-01.csv row count 482\n",
      "Loaded c:\\Users\\Admin\\Desktop\\SMU\\CS611\\cs611-assignment-1\\datamart\\bronze\\bronze_feature_clickstream_2024-09-01.csv, row count 8974\n",
      "Saving File c:\\Users\\Admin\\Desktop\\SMU\\CS611\\cs611-assignment-1\\datamart\\silver\\silver_feature_clickstream_2024-09-01.csv row count 8974\n",
      "Loaded c:\\Users\\Admin\\Desktop\\SMU\\CS611\\cs611-assignment-1\\datamart\\bronze\\bronze_lms_loan_daily_2024-10-01.csv, row count 5502\n",
      "Saving File c:\\Users\\Admin\\Desktop\\SMU\\CS611\\cs611-assignment-1\\datamart\\silver\\silver_lms_loan_daily_2024-10-01.csv row count 5502\n",
      "Loaded c:\\Users\\Admin\\Desktop\\SMU\\CS611\\cs611-assignment-1\\datamart\\bronze\\bronze_features_financial_2024-10-01.csv, row count 456\n",
      "Saving file : c:\\Users\\Admin\\Desktop\\SMU\\CS611\\cs611-assignment-1\\datamart\\silver\\silver_feature_financials_2024-10-01.csv row count 379\n",
      "Loaded c:\\Users\\Admin\\Desktop\\SMU\\CS611\\cs611-assignment-1\\datamart\\bronze\\bronze_features_attribute_2024-10-01.csv, row count Customer_ID      456\n",
      "Name             456\n",
      "Age              456\n",
      "SSN              456\n",
      "Occupation       456\n",
      "snapshot_date    456\n",
      "dtype: int64\n",
      "Saving file : c:\\Users\\Admin\\Desktop\\SMU\\CS611\\cs611-assignment-1\\datamart\\silver\\silver_feature_attributes_2024-10-01.csv row count 445\n",
      "Loaded c:\\Users\\Admin\\Desktop\\SMU\\CS611\\cs611-assignment-1\\datamart\\bronze\\bronze_feature_clickstream_2024-10-01.csv, row count 8974\n",
      "Saving File c:\\Users\\Admin\\Desktop\\SMU\\CS611\\cs611-assignment-1\\datamart\\silver\\silver_feature_clickstream_2024-10-01.csv row count 8974\n",
      "Loaded c:\\Users\\Admin\\Desktop\\SMU\\CS611\\cs611-assignment-1\\datamart\\bronze\\bronze_lms_loan_daily_2024-11-01.csv, row count 5501\n",
      "Saving File c:\\Users\\Admin\\Desktop\\SMU\\CS611\\cs611-assignment-1\\datamart\\silver\\silver_lms_loan_daily_2024-11-01.csv row count 5501\n",
      "Loaded c:\\Users\\Admin\\Desktop\\SMU\\CS611\\cs611-assignment-1\\datamart\\bronze\\bronze_features_financial_2024-11-01.csv, row count 488\n",
      "Saving file : c:\\Users\\Admin\\Desktop\\SMU\\CS611\\cs611-assignment-1\\datamart\\silver\\silver_feature_financials_2024-11-01.csv row count 392\n",
      "Loaded c:\\Users\\Admin\\Desktop\\SMU\\CS611\\cs611-assignment-1\\datamart\\bronze\\bronze_features_attribute_2024-11-01.csv, row count Customer_ID      488\n",
      "Name             488\n",
      "Age              488\n",
      "SSN              488\n",
      "Occupation       488\n",
      "snapshot_date    488\n",
      "dtype: int64\n",
      "Saving file : c:\\Users\\Admin\\Desktop\\SMU\\CS611\\cs611-assignment-1\\datamart\\silver\\silver_feature_attributes_2024-11-01.csv row count 473\n",
      "Loaded c:\\Users\\Admin\\Desktop\\SMU\\CS611\\cs611-assignment-1\\datamart\\bronze\\bronze_feature_clickstream_2024-11-01.csv, row count 8974\n",
      "Saving File c:\\Users\\Admin\\Desktop\\SMU\\CS611\\cs611-assignment-1\\datamart\\silver\\silver_feature_clickstream_2024-11-01.csv row count 8974\n",
      "Loaded c:\\Users\\Admin\\Desktop\\SMU\\CS611\\cs611-assignment-1\\datamart\\bronze\\bronze_lms_loan_daily_2024-12-01.csv, row count 5531\n",
      "Saving File c:\\Users\\Admin\\Desktop\\SMU\\CS611\\cs611-assignment-1\\datamart\\silver\\silver_lms_loan_daily_2024-12-01.csv row count 5531\n",
      "Loaded c:\\Users\\Admin\\Desktop\\SMU\\CS611\\cs611-assignment-1\\datamart\\bronze\\bronze_features_financial_2024-12-01.csv, row count 515\n",
      "Saving file : c:\\Users\\Admin\\Desktop\\SMU\\CS611\\cs611-assignment-1\\datamart\\silver\\silver_feature_financials_2024-12-01.csv row count 417\n",
      "Loaded c:\\Users\\Admin\\Desktop\\SMU\\CS611\\cs611-assignment-1\\datamart\\bronze\\bronze_features_attribute_2024-12-01.csv, row count Customer_ID      515\n",
      "Name             515\n",
      "Age              515\n",
      "SSN              515\n",
      "Occupation       515\n",
      "snapshot_date    515\n",
      "dtype: int64\n",
      "Saving file : c:\\Users\\Admin\\Desktop\\SMU\\CS611\\cs611-assignment-1\\datamart\\silver\\silver_feature_attributes_2024-12-01.csv row count 500\n",
      "Loaded c:\\Users\\Admin\\Desktop\\SMU\\CS611\\cs611-assignment-1\\datamart\\bronze\\bronze_feature_clickstream_2024-12-01.csv, row count 8974\n",
      "Saving File c:\\Users\\Admin\\Desktop\\SMU\\CS611\\cs611-assignment-1\\datamart\\silver\\silver_feature_clickstream_2024-12-01.csv row count 8974\n"
     ]
    }
   ],
   "source": [
    "# Now we do the same for silver table\n",
    "data_prep_silver(\"2023-01-01\", \"2024-12-01\", spark)"
   ]
  },
  {
   "cell_type": "code",
   "execution_count": null,
   "metadata": {},
   "outputs": [],
   "source": [
    "# Fuse the data to by year, the perform correlation analysis\n",
    "import os\n",
    "import pandas as pd\n",
    "from datetime import datetime\n",
    "\n",
    "import numpy as np\n",
    "\n",
    "import pyspark.sql.functions as F\n",
    "from pyspark.sql import SparkSession\n",
    "from pyspark.sql.functions import col, to_date, greatest\n",
    "from pyspark.sql.types import StringType, IntegerType, FloatType, DateType\n",
    "\n",
    "def process_labels_gold_table(snapshot_date_str, silver_loan_daily_directory, gold_label_store_directory, spark : SparkSession, dpd, mob):\n",
    "    # prepare arguments\n",
    "    current_date = datetime.now().strftime(\"%Y-%m-%d\")\n",
    "    \n",
    "    # connect to bronze table\n",
    "    partition_name = \"silver_lms_loan_daily_\" + snapshot_date_str + '.csv'\n",
    "    filepath = os.path.join(silver_loan_daily_directory, partition_name)\n",
    "    df = spark.read.csv(filepath, header=True, inferSchema=True)\n",
    "    print('loaded from:', filepath, 'row count:', df.count())\n",
    "\n",
    "    # get customer at mob\n",
    "    df = df.filter(col(\"mob\") == mob)\n",
    "\n",
    "    # get label\n",
    "    df = df.withColumn(\"label\", F.when(col(\"dpd\") >= dpd, 1).otherwise(0).cast(IntegerType()))\n",
    "    df = df.withColumn(\"label_def\", F.lit(str(dpd)+'dpd_'+str(mob)+'mob').cast(StringType()))\n",
    "\n",
    "    # select columns to save\n",
    "    df = df.select(\"loan_id\", \"Customer_ID\", \"label\", \"label_def\", \"snapshot_date\")\n",
    "\n",
    "    # save gold table - IRL connect to database to write\n",
    "    partition_name = f\"snapdate_{current_date}_\" + \"gold_label_store_\" + snapshot_date_str.replace('-','_') + '.csv'\n",
    "    # filepath = os.path.join(gold_label_store_directory, partition_name)\n",
    "    \n",
    "    # df.toPandas().to_csv(filepath, index=False)\n",
    "    # print('saved to:', filepath)\n",
    "    \n",
    "    return df\n",
    "\n",
    "def process_features_gold_table(snapshot_date_str, silver_dir, gold_feature_store_directory, spark : SparkSession):\n",
    "    current_date = datetime.now().strftime(\"%Y-%m-%d\")\n",
    "\n",
    "    # We need to access each of the stores from the specific dates\n",
    "    silver_features_financials = os.path.join(silver_dir, \"silver_feature_financials_\" + snapshot_date_str + '.csv')\n",
    "    silver_features_attributes = os.path.join(silver_dir, \"silver_feature_attributes_\" + snapshot_date_str + '.csv')\n",
    "    silver_features_clickstream = os.path.join(silver_dir, \"silver_feature_clickstream_\" + snapshot_date_str + '.csv')\n",
    "\n",
    "    ff_df = spark.read.csv(silver_features_financials, header=True, inferSchema=True)\n",
    "    fa_df = spark.read.csv(silver_features_attributes, header=True, inferSchema=True)\n",
    "    fc_df = spark.read.csv(silver_features_clickstream, header=True, inferSchema=True)\n",
    "    print('loaded from:', silver_features_financials, 'row count:', ff_df.count())\n",
    "    print('loaded from:', silver_features_attributes, 'row count:', fa_df.count())\n",
    "    print('loaded from:', silver_features_clickstream, 'row count:', fc_df.count())\n",
    "\n",
    "    # Find the latest snapshot date afterwards\n",
    "    ff_df = ff_df.withColumnRenamed(\"snapshot_date\", \"snapshot_date_1\")\n",
    "    ff_df = ff_df.withColumn(\"snapshot_date_1\", to_date(\"snapshot_date_1\"))\n",
    "\n",
    "    fa_df = fa_df.withColumnRenamed(\"snapshot_date\", \"snapshot_date_2\")\n",
    "    fa_df = fa_df.withColumn(\"snapshot_date_2\", to_date(\"snapshot_date_2\"))\n",
    "\n",
    "    fc_df = fc_df.withColumnRenamed(\"snapshot_date\", \"snapshot_date_3\")\n",
    "    fc_df = fc_df.withColumn(\"snapshot_date_3\", to_date(\"snapshot_date_3\"))\n",
    "\n",
    "    # Merge the 3 datasets by date to correspond to the label store\n",
    "    # Feature clickstream is the cleanest dataset, followed by attributes then finally the financials \n",
    "    df_joined_1 = fc_df.join(fa_df, on=\"Customer_ID\", how=\"inner\")\n",
    "    final_df = df_joined_1.join(ff_df, on=\"Customer_ID\", how=\"inner\")\n",
    "\n",
    "    final_df = final_df.withColumn(\n",
    "        \"snapshot_date\",\n",
    "        greatest(\"snapshot_date_1\", \"snapshot_date_2\", \"snapshot_date_3\")\n",
    "    )\n",
    "    final_df = final_df.drop(\"snapshot_date_1\", \"snapshot_date_2\", \"snapshot_date_3\")\n",
    "\n",
    "    print(\"Final Row Count : \", final_df.count())\n",
    "\n",
    "    # Save the final file\n",
    "    # partition_name = f\"snapdate_{current_date}_\" + \"gold_feature_store_\" + snapshot_date_str + '.csv'\n",
    "    # full_partition_path = os.path.join(gold_feature_store_directory, partition_name)\n",
    "    # final_df.toPandas().to_csv(full_partition_path, index=False)\n",
    "    # print(f\"saved to : {full_partition_path}, row count : {final_df.count()}\")\n",
    "\n",
    "    return final_df"
   ]
  },
  {
   "cell_type": "code",
   "execution_count": null,
   "metadata": {},
   "outputs": [],
   "source": [
    "# Now we can prepare the gold table as well\n",
    "from tqdm import tqdm\n",
    "\n",
    "def data_prep_gold(start_date, end_date, spark : SparkSession):\n",
    "    print('\\n\\n---starting Gold table job---\\n\\n')\n",
    "\n",
    "    dates_str_list = generate_first_of_month_dates(start_date, end_date)\n",
    "\n",
    "    label_df = None\n",
    "    features_df = None\n",
    "\n",
    "    # We can build the silver table\n",
    "    for date_str in tqdm(dates_str_list):\n",
    "        # Prepare the gold labels\n",
    "        if label_df:\n",
    "            cur_label_df = process_labels_gold_table(date_str, silver_dir, gold_dir, spark, dpd = 60, mob = 7)\n",
    "            label_df = label_df.unionByName(cur_label_df)\n",
    "        else:\n",
    "            label_df = process_labels_gold_table(date_str, silver_dir, gold_dir, spark, dpd = 60, mob = 7)\n",
    "\n",
    "        # Prepare the gold features\n",
    "        if features_df:\n",
    "            cur_feature_df = process_features_gold_table(date_str, silver_dir, gold_dir, spark)\n",
    "            features_df = features_df.unionByName(cur_feature_df)\n",
    "        else:\n",
    "            features_df = process_features_gold_table(date_str, silver_dir, gold_dir, spark)\n",
    "\n",
    "    # Save the data\n",
    "    current_date = datetime.now().strftime(\"%Y-%m-%d\")\n",
    "\n",
    "    label_name = f\"snapdate_{current_date}_\" + \"gold_label_store_\" + start_date + \"to\" + end_date + \".csv\"\n",
    "    label_filepath = os.path.join(gold_dir, label_name)\n",
    "    label_df.toPandas().to_csv(label_filepath, index=False)\n",
    "    print('labels saved to : ', label_filepath, \" row count : \", label_df.count())\n",
    "\n",
    "    feature_name = f\"snapdate_{current_date}_\" + \"gold_feature_store_\" + start_date + \"to\" + end_date + \".csv\"\n",
    "    feature_filepath = os.path.join(gold_dir, feature_name)\n",
    "    features_df.toPandas().to_csv(feature_filepath, index=False)\n",
    "    print(f\"saved to : {feature_filepath}, row count : {features_df.count()}\")\n",
    "\n",
    "\n",
    "    return label_df, features_df\n"
   ]
  },
  {
   "cell_type": "code",
   "execution_count": 18,
   "metadata": {},
   "outputs": [
    {
     "name": "stdout",
     "output_type": "stream",
     "text": [
      "\n",
      "\n",
      "---starting Gold table job---\n",
      "\n",
      "\n"
     ]
    },
    {
     "name": "stderr",
     "output_type": "stream",
     "text": [
      "  0%|          | 0/24 [00:00<?, ?it/s]"
     ]
    },
    {
     "name": "stdout",
     "output_type": "stream",
     "text": [
      "loaded from: c:\\Users\\Admin\\Desktop\\SMU\\CS611\\cs611-assignment-1\\datamart\\silver\\silver_lms_loan_daily_2023-01-01.csv row count: 530\n",
      "loaded from: c:\\Users\\Admin\\Desktop\\SMU\\CS611\\cs611-assignment-1\\datamart\\silver\\silver_feature_financials_2023-01-01.csv row count: 404\n",
      "loaded from: c:\\Users\\Admin\\Desktop\\SMU\\CS611\\cs611-assignment-1\\datamart\\silver\\silver_feature_attributes_2023-01-01.csv row count: 513\n",
      "loaded from: c:\\Users\\Admin\\Desktop\\SMU\\CS611\\cs611-assignment-1\\datamart\\silver\\silver_feature_clickstream_2023-01-01.csv row count: 8974\n"
     ]
    },
    {
     "name": "stderr",
     "output_type": "stream",
     "text": [
      "  4%|▍         | 1/24 [00:01<00:33,  1.47s/it]"
     ]
    },
    {
     "name": "stdout",
     "output_type": "stream",
     "text": [
      "Final Row Count :  391\n",
      "loaded from: c:\\Users\\Admin\\Desktop\\SMU\\CS611\\cs611-assignment-1\\datamart\\silver\\silver_lms_loan_daily_2023-02-01.csv row count: 1031\n",
      "loaded from: c:\\Users\\Admin\\Desktop\\SMU\\CS611\\cs611-assignment-1\\datamart\\silver\\silver_feature_financials_2023-02-01.csv row count: 390\n",
      "loaded from: c:\\Users\\Admin\\Desktop\\SMU\\CS611\\cs611-assignment-1\\datamart\\silver\\silver_feature_attributes_2023-02-01.csv row count: 490\n",
      "loaded from: c:\\Users\\Admin\\Desktop\\SMU\\CS611\\cs611-assignment-1\\datamart\\silver\\silver_feature_clickstream_2023-02-01.csv row count: 8974\n"
     ]
    },
    {
     "name": "stderr",
     "output_type": "stream",
     "text": [
      "  8%|▊         | 2/24 [00:02<00:30,  1.37s/it]"
     ]
    },
    {
     "name": "stdout",
     "output_type": "stream",
     "text": [
      "Final Row Count :  380\n",
      "loaded from: c:\\Users\\Admin\\Desktop\\SMU\\CS611\\cs611-assignment-1\\datamart\\silver\\silver_lms_loan_daily_2023-03-01.csv row count: 1537\n",
      "loaded from: c:\\Users\\Admin\\Desktop\\SMU\\CS611\\cs611-assignment-1\\datamart\\silver\\silver_feature_financials_2023-03-01.csv row count: 400\n",
      "loaded from: c:\\Users\\Admin\\Desktop\\SMU\\CS611\\cs611-assignment-1\\datamart\\silver\\silver_feature_attributes_2023-03-01.csv row count: 489\n",
      "loaded from: c:\\Users\\Admin\\Desktop\\SMU\\CS611\\cs611-assignment-1\\datamart\\silver\\silver_feature_clickstream_2023-03-01.csv row count: 8974\n"
     ]
    },
    {
     "name": "stderr",
     "output_type": "stream",
     "text": [
      " 12%|█▎        | 3/24 [00:03<00:26,  1.24s/it]"
     ]
    },
    {
     "name": "stdout",
     "output_type": "stream",
     "text": [
      "Final Row Count :  388\n",
      "loaded from: c:\\Users\\Admin\\Desktop\\SMU\\CS611\\cs611-assignment-1\\datamart\\silver\\silver_lms_loan_daily_2023-04-01.csv row count: 2047\n",
      "loaded from: c:\\Users\\Admin\\Desktop\\SMU\\CS611\\cs611-assignment-1\\datamart\\silver\\silver_feature_financials_2023-04-01.csv row count: 407\n",
      "loaded from: c:\\Users\\Admin\\Desktop\\SMU\\CS611\\cs611-assignment-1\\datamart\\silver\\silver_feature_attributes_2023-04-01.csv row count: 494\n",
      "loaded from: c:\\Users\\Admin\\Desktop\\SMU\\CS611\\cs611-assignment-1\\datamart\\silver\\silver_feature_clickstream_2023-04-01.csv row count: 8974\n"
     ]
    },
    {
     "name": "stderr",
     "output_type": "stream",
     "text": [
      " 17%|█▋        | 4/24 [00:05<00:24,  1.24s/it]"
     ]
    },
    {
     "name": "stdout",
     "output_type": "stream",
     "text": [
      "Final Row Count :  392\n",
      "loaded from: c:\\Users\\Admin\\Desktop\\SMU\\CS611\\cs611-assignment-1\\datamart\\silver\\silver_lms_loan_daily_2023-05-01.csv row count: 2568\n",
      "loaded from: c:\\Users\\Admin\\Desktop\\SMU\\CS611\\cs611-assignment-1\\datamart\\silver\\silver_feature_financials_2023-05-01.csv row count: 417\n",
      "loaded from: c:\\Users\\Admin\\Desktop\\SMU\\CS611\\cs611-assignment-1\\datamart\\silver\\silver_feature_attributes_2023-05-01.csv row count: 507\n",
      "loaded from: c:\\Users\\Admin\\Desktop\\SMU\\CS611\\cs611-assignment-1\\datamart\\silver\\silver_feature_clickstream_2023-05-01.csv row count: 8974\n"
     ]
    },
    {
     "name": "stderr",
     "output_type": "stream",
     "text": [
      " 21%|██        | 5/24 [00:06<00:22,  1.19s/it]"
     ]
    },
    {
     "name": "stdout",
     "output_type": "stream",
     "text": [
      "Final Row Count :  407\n",
      "loaded from: c:\\Users\\Admin\\Desktop\\SMU\\CS611\\cs611-assignment-1\\datamart\\silver\\silver_lms_loan_daily_2023-06-01.csv row count: 3085\n",
      "loaded from: c:\\Users\\Admin\\Desktop\\SMU\\CS611\\cs611-assignment-1\\datamart\\silver\\silver_feature_financials_2023-06-01.csv row count: 413\n",
      "loaded from: c:\\Users\\Admin\\Desktop\\SMU\\CS611\\cs611-assignment-1\\datamart\\silver\\silver_feature_attributes_2023-06-01.csv row count: 501\n",
      "loaded from: c:\\Users\\Admin\\Desktop\\SMU\\CS611\\cs611-assignment-1\\datamart\\silver\\silver_feature_clickstream_2023-06-01.csv row count: 8974\n"
     ]
    },
    {
     "name": "stderr",
     "output_type": "stream",
     "text": [
      " 25%|██▌       | 6/24 [00:07<00:21,  1.21s/it]"
     ]
    },
    {
     "name": "stdout",
     "output_type": "stream",
     "text": [
      "Final Row Count :  399\n",
      "loaded from: c:\\Users\\Admin\\Desktop\\SMU\\CS611\\cs611-assignment-1\\datamart\\silver\\silver_lms_loan_daily_2023-07-01.csv row count: 3556\n",
      "loaded from: c:\\Users\\Admin\\Desktop\\SMU\\CS611\\cs611-assignment-1\\datamart\\silver\\silver_feature_financials_2023-07-01.csv row count: 379\n",
      "loaded from: c:\\Users\\Admin\\Desktop\\SMU\\CS611\\cs611-assignment-1\\datamart\\silver\\silver_feature_attributes_2023-07-01.csv row count: 462\n",
      "loaded from: c:\\Users\\Admin\\Desktop\\SMU\\CS611\\cs611-assignment-1\\datamart\\silver\\silver_feature_clickstream_2023-07-01.csv row count: 8974\n"
     ]
    },
    {
     "name": "stderr",
     "output_type": "stream",
     "text": [
      " 29%|██▉       | 7/24 [00:08<00:22,  1.31s/it]"
     ]
    },
    {
     "name": "stdout",
     "output_type": "stream",
     "text": [
      "Final Row Count :  373\n",
      "loaded from: c:\\Users\\Admin\\Desktop\\SMU\\CS611\\cs611-assignment-1\\datamart\\silver\\silver_lms_loan_daily_2023-08-01.csv row count: 4037\n",
      "loaded from: c:\\Users\\Admin\\Desktop\\SMU\\CS611\\cs611-assignment-1\\datamart\\silver\\silver_feature_financials_2023-08-01.csv row count: 398\n",
      "loaded from: c:\\Users\\Admin\\Desktop\\SMU\\CS611\\cs611-assignment-1\\datamart\\silver\\silver_feature_attributes_2023-08-01.csv row count: 467\n",
      "loaded from: c:\\Users\\Admin\\Desktop\\SMU\\CS611\\cs611-assignment-1\\datamart\\silver\\silver_feature_clickstream_2023-08-01.csv row count: 8974\n"
     ]
    },
    {
     "name": "stderr",
     "output_type": "stream",
     "text": [
      " 33%|███▎      | 8/24 [00:10<00:21,  1.31s/it]"
     ]
    },
    {
     "name": "stdout",
     "output_type": "stream",
     "text": [
      "Final Row Count :  385\n",
      "loaded from: c:\\Users\\Admin\\Desktop\\SMU\\CS611\\cs611-assignment-1\\datamart\\silver\\silver_lms_loan_daily_2023-09-01.csv row count: 4491\n",
      "loaded from: c:\\Users\\Admin\\Desktop\\SMU\\CS611\\cs611-assignment-1\\datamart\\silver\\silver_feature_financials_2023-09-01.csv row count: 363\n",
      "loaded from: c:\\Users\\Admin\\Desktop\\SMU\\CS611\\cs611-assignment-1\\datamart\\silver\\silver_feature_attributes_2023-09-01.csv row count: 443\n",
      "loaded from: c:\\Users\\Admin\\Desktop\\SMU\\CS611\\cs611-assignment-1\\datamart\\silver\\silver_feature_clickstream_2023-09-01.csv row count: 8974\n"
     ]
    },
    {
     "name": "stderr",
     "output_type": "stream",
     "text": [
      " 38%|███▊      | 9/24 [00:11<00:19,  1.32s/it]"
     ]
    },
    {
     "name": "stdout",
     "output_type": "stream",
     "text": [
      "Final Row Count :  355\n",
      "loaded from: c:\\Users\\Admin\\Desktop\\SMU\\CS611\\cs611-assignment-1\\datamart\\silver\\silver_lms_loan_daily_2023-10-01.csv row count: 4978\n",
      "loaded from: c:\\Users\\Admin\\Desktop\\SMU\\CS611\\cs611-assignment-1\\datamart\\silver\\silver_feature_financials_2023-10-01.csv row count: 385\n",
      "loaded from: c:\\Users\\Admin\\Desktop\\SMU\\CS611\\cs611-assignment-1\\datamart\\silver\\silver_feature_attributes_2023-10-01.csv row count: 475\n",
      "loaded from: c:\\Users\\Admin\\Desktop\\SMU\\CS611\\cs611-assignment-1\\datamart\\silver\\silver_feature_clickstream_2023-10-01.csv row count: 8974\n"
     ]
    },
    {
     "name": "stderr",
     "output_type": "stream",
     "text": [
      " 42%|████▏     | 10/24 [00:12<00:18,  1.31s/it]"
     ]
    },
    {
     "name": "stdout",
     "output_type": "stream",
     "text": [
      "Final Row Count :  376\n",
      "loaded from: c:\\Users\\Admin\\Desktop\\SMU\\CS611\\cs611-assignment-1\\datamart\\silver\\silver_lms_loan_daily_2023-11-01.csv row count: 5469\n",
      "loaded from: c:\\Users\\Admin\\Desktop\\SMU\\CS611\\cs611-assignment-1\\datamart\\silver\\silver_feature_financials_2023-11-01.csv row count: 393\n",
      "loaded from: c:\\Users\\Admin\\Desktop\\SMU\\CS611\\cs611-assignment-1\\datamart\\silver\\silver_feature_attributes_2023-11-01.csv row count: 480\n",
      "loaded from: c:\\Users\\Admin\\Desktop\\SMU\\CS611\\cs611-assignment-1\\datamart\\silver\\silver_feature_clickstream_2023-11-01.csv row count: 8974\n"
     ]
    },
    {
     "name": "stderr",
     "output_type": "stream",
     "text": [
      " 46%|████▌     | 11/24 [00:14<00:16,  1.30s/it]"
     ]
    },
    {
     "name": "stdout",
     "output_type": "stream",
     "text": [
      "Final Row Count :  384\n",
      "loaded from: c:\\Users\\Admin\\Desktop\\SMU\\CS611\\cs611-assignment-1\\datamart\\silver\\silver_lms_loan_daily_2023-12-01.csv row count: 5428\n",
      "loaded from: c:\\Users\\Admin\\Desktop\\SMU\\CS611\\cs611-assignment-1\\datamart\\silver\\silver_feature_financials_2023-12-01.csv row count: 394\n",
      "loaded from: c:\\Users\\Admin\\Desktop\\SMU\\CS611\\cs611-assignment-1\\datamart\\silver\\silver_feature_attributes_2023-12-01.csv row count: 477\n",
      "loaded from: c:\\Users\\Admin\\Desktop\\SMU\\CS611\\cs611-assignment-1\\datamart\\silver\\silver_feature_clickstream_2023-12-01.csv row count: 8974\n"
     ]
    },
    {
     "name": "stderr",
     "output_type": "stream",
     "text": [
      " 50%|█████     | 12/24 [00:15<00:15,  1.27s/it]"
     ]
    },
    {
     "name": "stdout",
     "output_type": "stream",
     "text": [
      "Final Row Count :  385\n",
      "loaded from: c:\\Users\\Admin\\Desktop\\SMU\\CS611\\cs611-assignment-1\\datamart\\silver\\silver_lms_loan_daily_2024-01-01.csv row count: 5412\n",
      "loaded from: c:\\Users\\Admin\\Desktop\\SMU\\CS611\\cs611-assignment-1\\datamart\\silver\\silver_feature_financials_2024-01-01.csv row count: 394\n",
      "loaded from: c:\\Users\\Admin\\Desktop\\SMU\\CS611\\cs611-assignment-1\\datamart\\silver\\silver_feature_attributes_2024-01-01.csv row count: 476\n",
      "loaded from: c:\\Users\\Admin\\Desktop\\SMU\\CS611\\cs611-assignment-1\\datamart\\silver\\silver_feature_clickstream_2024-01-01.csv row count: 8974\n"
     ]
    },
    {
     "name": "stderr",
     "output_type": "stream",
     "text": [
      " 54%|█████▍    | 13/24 [00:16<00:14,  1.29s/it]"
     ]
    },
    {
     "name": "stdout",
     "output_type": "stream",
     "text": [
      "Final Row Count :  388\n",
      "loaded from: c:\\Users\\Admin\\Desktop\\SMU\\CS611\\cs611-assignment-1\\datamart\\silver\\silver_lms_loan_daily_2024-02-01.csv row count: 5424\n",
      "loaded from: c:\\Users\\Admin\\Desktop\\SMU\\CS611\\cs611-assignment-1\\datamart\\silver\\silver_feature_financials_2024-02-01.csv row count: 417\n",
      "loaded from: c:\\Users\\Admin\\Desktop\\SMU\\CS611\\cs611-assignment-1\\datamart\\silver\\silver_feature_attributes_2024-02-01.csv row count: 507\n",
      "loaded from: c:\\Users\\Admin\\Desktop\\SMU\\CS611\\cs611-assignment-1\\datamart\\silver\\silver_feature_clickstream_2024-02-01.csv row count: 8974\n"
     ]
    },
    {
     "name": "stderr",
     "output_type": "stream",
     "text": [
      " 58%|█████▊    | 14/24 [00:18<00:13,  1.34s/it]"
     ]
    },
    {
     "name": "stdout",
     "output_type": "stream",
     "text": [
      "Final Row Count :  409\n",
      "loaded from: c:\\Users\\Admin\\Desktop\\SMU\\CS611\\cs611-assignment-1\\datamart\\silver\\silver_lms_loan_daily_2024-03-01.csv row count: 5425\n",
      "loaded from: c:\\Users\\Admin\\Desktop\\SMU\\CS611\\cs611-assignment-1\\datamart\\silver\\silver_feature_financials_2024-03-01.csv row count: 416\n",
      "loaded from: c:\\Users\\Admin\\Desktop\\SMU\\CS611\\cs611-assignment-1\\datamart\\silver\\silver_feature_attributes_2024-03-01.csv row count: 504\n",
      "loaded from: c:\\Users\\Admin\\Desktop\\SMU\\CS611\\cs611-assignment-1\\datamart\\silver\\silver_feature_clickstream_2024-03-01.csv row count: 8974\n"
     ]
    },
    {
     "name": "stderr",
     "output_type": "stream",
     "text": [
      " 62%|██████▎   | 15/24 [00:19<00:11,  1.32s/it]"
     ]
    },
    {
     "name": "stdout",
     "output_type": "stream",
     "text": [
      "Final Row Count :  412\n",
      "loaded from: c:\\Users\\Admin\\Desktop\\SMU\\CS611\\cs611-assignment-1\\datamart\\silver\\silver_lms_loan_daily_2024-04-01.csv row count: 5417\n",
      "loaded from: c:\\Users\\Admin\\Desktop\\SMU\\CS611\\cs611-assignment-1\\datamart\\silver\\silver_feature_financials_2024-04-01.csv row count: 417\n",
      "loaded from: c:\\Users\\Admin\\Desktop\\SMU\\CS611\\cs611-assignment-1\\datamart\\silver\\silver_feature_attributes_2024-04-01.csv row count: 500\n",
      "loaded from: c:\\Users\\Admin\\Desktop\\SMU\\CS611\\cs611-assignment-1\\datamart\\silver\\silver_feature_clickstream_2024-04-01.csv row count: 8974\n"
     ]
    },
    {
     "name": "stderr",
     "output_type": "stream",
     "text": [
      " 67%|██████▋   | 16/24 [00:20<00:10,  1.33s/it]"
     ]
    },
    {
     "name": "stdout",
     "output_type": "stream",
     "text": [
      "Final Row Count :  405\n",
      "loaded from: c:\\Users\\Admin\\Desktop\\SMU\\CS611\\cs611-assignment-1\\datamart\\silver\\silver_lms_loan_daily_2024-05-01.csv row count: 5391\n",
      "loaded from: c:\\Users\\Admin\\Desktop\\SMU\\CS611\\cs611-assignment-1\\datamart\\silver\\silver_feature_financials_2024-05-01.csv row count: 395\n",
      "loaded from: c:\\Users\\Admin\\Desktop\\SMU\\CS611\\cs611-assignment-1\\datamart\\silver\\silver_feature_attributes_2024-05-01.csv row count: 478\n",
      "loaded from: c:\\Users\\Admin\\Desktop\\SMU\\CS611\\cs611-assignment-1\\datamart\\silver\\silver_feature_clickstream_2024-05-01.csv row count: 8974\n"
     ]
    },
    {
     "name": "stderr",
     "output_type": "stream",
     "text": [
      " 71%|███████   | 17/24 [00:22<00:10,  1.53s/it]"
     ]
    },
    {
     "name": "stdout",
     "output_type": "stream",
     "text": [
      "Final Row Count :  384\n",
      "loaded from: c:\\Users\\Admin\\Desktop\\SMU\\CS611\\cs611-assignment-1\\datamart\\silver\\silver_lms_loan_daily_2024-06-01.csv row count: 5418\n",
      "loaded from: c:\\Users\\Admin\\Desktop\\SMU\\CS611\\cs611-assignment-1\\datamart\\silver\\silver_feature_financials_2024-06-01.csv row count: 407\n",
      "loaded from: c:\\Users\\Admin\\Desktop\\SMU\\CS611\\cs611-assignment-1\\datamart\\silver\\silver_feature_attributes_2024-06-01.csv row count: 481\n",
      "loaded from: c:\\Users\\Admin\\Desktop\\SMU\\CS611\\cs611-assignment-1\\datamart\\silver\\silver_feature_clickstream_2024-06-01.csv row count: 8974\n"
     ]
    },
    {
     "name": "stderr",
     "output_type": "stream",
     "text": [
      " 75%|███████▌  | 18/24 [00:24<00:09,  1.57s/it]"
     ]
    },
    {
     "name": "stdout",
     "output_type": "stream",
     "text": [
      "Final Row Count :  393\n",
      "loaded from: c:\\Users\\Admin\\Desktop\\SMU\\CS611\\cs611-assignment-1\\datamart\\silver\\silver_lms_loan_daily_2024-07-01.csv row count: 5442\n",
      "loaded from: c:\\Users\\Admin\\Desktop\\SMU\\CS611\\cs611-assignment-1\\datamart\\silver\\silver_feature_financials_2024-07-01.csv row count: 411\n",
      "loaded from: c:\\Users\\Admin\\Desktop\\SMU\\CS611\\cs611-assignment-1\\datamart\\silver\\silver_feature_attributes_2024-07-01.csv row count: 495\n",
      "loaded from: c:\\Users\\Admin\\Desktop\\SMU\\CS611\\cs611-assignment-1\\datamart\\silver\\silver_feature_clickstream_2024-07-01.csv row count: 8974\n"
     ]
    },
    {
     "name": "stderr",
     "output_type": "stream",
     "text": [
      " 79%|███████▉  | 19/24 [00:25<00:07,  1.50s/it]"
     ]
    },
    {
     "name": "stdout",
     "output_type": "stream",
     "text": [
      "Final Row Count :  0\n",
      "loaded from: c:\\Users\\Admin\\Desktop\\SMU\\CS611\\cs611-assignment-1\\datamart\\silver\\silver_lms_loan_daily_2024-08-01.csv row count: 5531\n",
      "loaded from: c:\\Users\\Admin\\Desktop\\SMU\\CS611\\cs611-assignment-1\\datamart\\silver\\silver_feature_financials_2024-08-01.csv row count: 425\n",
      "loaded from: c:\\Users\\Admin\\Desktop\\SMU\\CS611\\cs611-assignment-1\\datamart\\silver\\silver_feature_attributes_2024-08-01.csv row count: 531\n",
      "loaded from: c:\\Users\\Admin\\Desktop\\SMU\\CS611\\cs611-assignment-1\\datamart\\silver\\silver_feature_clickstream_2024-08-01.csv row count: 8974\n"
     ]
    },
    {
     "name": "stderr",
     "output_type": "stream",
     "text": [
      " 83%|████████▎ | 20/24 [00:27<00:06,  1.51s/it]"
     ]
    },
    {
     "name": "stdout",
     "output_type": "stream",
     "text": [
      "Final Row Count :  0\n",
      "loaded from: c:\\Users\\Admin\\Desktop\\SMU\\CS611\\cs611-assignment-1\\datamart\\silver\\silver_lms_loan_daily_2024-09-01.csv row count: 5537\n",
      "loaded from: c:\\Users\\Admin\\Desktop\\SMU\\CS611\\cs611-assignment-1\\datamart\\silver\\silver_feature_financials_2024-09-01.csv row count: 398\n",
      "loaded from: c:\\Users\\Admin\\Desktop\\SMU\\CS611\\cs611-assignment-1\\datamart\\silver\\silver_feature_attributes_2024-09-01.csv row count: 482\n",
      "loaded from: c:\\Users\\Admin\\Desktop\\SMU\\CS611\\cs611-assignment-1\\datamart\\silver\\silver_feature_clickstream_2024-09-01.csv row count: 8974\n"
     ]
    },
    {
     "name": "stderr",
     "output_type": "stream",
     "text": [
      " 88%|████████▊ | 21/24 [00:28<00:04,  1.47s/it]"
     ]
    },
    {
     "name": "stdout",
     "output_type": "stream",
     "text": [
      "Final Row Count :  0\n",
      "loaded from: c:\\Users\\Admin\\Desktop\\SMU\\CS611\\cs611-assignment-1\\datamart\\silver\\silver_lms_loan_daily_2024-10-01.csv row count: 5502\n",
      "loaded from: c:\\Users\\Admin\\Desktop\\SMU\\CS611\\cs611-assignment-1\\datamart\\silver\\silver_feature_financials_2024-10-01.csv row count: 379\n",
      "loaded from: c:\\Users\\Admin\\Desktop\\SMU\\CS611\\cs611-assignment-1\\datamart\\silver\\silver_feature_attributes_2024-10-01.csv row count: 445\n",
      "loaded from: c:\\Users\\Admin\\Desktop\\SMU\\CS611\\cs611-assignment-1\\datamart\\silver\\silver_feature_clickstream_2024-10-01.csv row count: 8974\n"
     ]
    },
    {
     "name": "stderr",
     "output_type": "stream",
     "text": [
      " 92%|█████████▏| 22/24 [00:30<00:02,  1.48s/it]"
     ]
    },
    {
     "name": "stdout",
     "output_type": "stream",
     "text": [
      "Final Row Count :  0\n",
      "loaded from: c:\\Users\\Admin\\Desktop\\SMU\\CS611\\cs611-assignment-1\\datamart\\silver\\silver_lms_loan_daily_2024-11-01.csv row count: 5501\n",
      "loaded from: c:\\Users\\Admin\\Desktop\\SMU\\CS611\\cs611-assignment-1\\datamart\\silver\\silver_feature_financials_2024-11-01.csv row count: 392\n",
      "loaded from: c:\\Users\\Admin\\Desktop\\SMU\\CS611\\cs611-assignment-1\\datamart\\silver\\silver_feature_attributes_2024-11-01.csv row count: 473\n",
      "loaded from: c:\\Users\\Admin\\Desktop\\SMU\\CS611\\cs611-assignment-1\\datamart\\silver\\silver_feature_clickstream_2024-11-01.csv row count: 8974\n"
     ]
    },
    {
     "name": "stderr",
     "output_type": "stream",
     "text": [
      " 96%|█████████▌| 23/24 [00:31<00:01,  1.46s/it]"
     ]
    },
    {
     "name": "stdout",
     "output_type": "stream",
     "text": [
      "Final Row Count :  0\n",
      "loaded from: c:\\Users\\Admin\\Desktop\\SMU\\CS611\\cs611-assignment-1\\datamart\\silver\\silver_lms_loan_daily_2024-12-01.csv row count: 5531\n",
      "loaded from: c:\\Users\\Admin\\Desktop\\SMU\\CS611\\cs611-assignment-1\\datamart\\silver\\silver_feature_financials_2024-12-01.csv row count: 417\n",
      "loaded from: c:\\Users\\Admin\\Desktop\\SMU\\CS611\\cs611-assignment-1\\datamart\\silver\\silver_feature_attributes_2024-12-01.csv row count: 500\n",
      "loaded from: c:\\Users\\Admin\\Desktop\\SMU\\CS611\\cs611-assignment-1\\datamart\\silver\\silver_feature_clickstream_2024-12-01.csv row count: 8974\n"
     ]
    },
    {
     "name": "stderr",
     "output_type": "stream",
     "text": [
      "100%|██████████| 24/24 [00:32<00:00,  1.37s/it]"
     ]
    },
    {
     "name": "stdout",
     "output_type": "stream",
     "text": [
      "Final Row Count :  0\n"
     ]
    },
    {
     "name": "stderr",
     "output_type": "stream",
     "text": [
      "\n"
     ]
    },
    {
     "name": "stdout",
     "output_type": "stream",
     "text": [
      "labels saved to :  c:\\Users\\Admin\\Desktop\\SMU\\CS611\\cs611-assignment-1\\datamart\\gold\\snapdate_2025-05-20_gold_label_store2023-01-01to2024-12-01.csv  row count :  8476\n",
      "saved to : c:\\Users\\Admin\\Desktop\\SMU\\CS611\\cs611-assignment-1\\datamart\\gold\\snapdate_2025-05-20_gold_feature_store2023-01-01to2024-12-01.csv, row count : 7006\n"
     ]
    }
   ],
   "source": [
    "sample_label, sample_features = data_prep_gold(\"2023-01-01\", \"2024-12-01\", spark)"
   ]
  },
  {
   "cell_type": "code",
   "execution_count": 19,
   "metadata": {},
   "outputs": [
    {
     "data": {
      "text/plain": [
       "Row(loan_id='CUS_0x10dd_2024_06_01', Customer_ID='CUS_0x10dd', label=0, label_def='30dpd_6mob', snapshot_date=datetime.date(2024, 12, 1))"
      ]
     },
     "execution_count": 19,
     "metadata": {},
     "output_type": "execute_result"
    }
   ],
   "source": [
    "sample_label.head()"
   ]
  },
  {
   "cell_type": "code",
   "execution_count": 22,
   "metadata": {},
   "outputs": [
    {
     "name": "stdout",
     "output_type": "stream",
     "text": [
      "None\n"
     ]
    }
   ],
   "source": [
    "print(sample_features.head())"
   ]
  },
  {
   "cell_type": "code",
   "execution_count": null,
   "metadata": {},
   "outputs": [],
   "source": []
  }
 ],
 "metadata": {
  "kernelspec": {
   "display_name": "Python 3 (ipykernel)",
   "language": "python",
   "name": "python3"
  },
  "language_info": {
   "codemirror_mode": {
    "name": "ipython",
    "version": 3
   },
   "file_extension": ".py",
   "mimetype": "text/x-python",
   "name": "python",
   "nbconvert_exporter": "python",
   "pygments_lexer": "ipython3",
   "version": "3.12.10"
  }
 },
 "nbformat": 4,
 "nbformat_minor": 4
}
